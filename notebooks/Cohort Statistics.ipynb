{
 "cells": [
  {
   "cell_type": "code",
   "execution_count": null,
   "id": "2db3615a",
   "metadata": {},
   "outputs": [],
   "source": [
    "import matplotlib.pyplot as plt\n",
    "import numpy as np\n",
    "from scipy import interp, stats\n",
    "import pandas as pd\n",
    "import os\n",
    "import datetime\n",
    "import pytz\n",
    "import sys\n",
    "import json\n",
    "from tqdm import tqdm\n",
    "import math\n",
    "\n",
    "from scipy.stats import chi2_contingency\n",
    "from scipy.stats import chi2, kstest, ranksums\n",
    "import seaborn as sns\n",
    "\n",
    "import warnings\n",
    "warnings.filterwarnings('ignore')\n",
    "\n",
    "from edm.utils.measures import perf_measure, calculate_output_statistics\n",
    "\n",
    "pd.set_option('display.max_columns', None)"
   ]
  },
  {
   "cell_type": "code",
   "execution_count": null,
   "id": "2c6b1a5f",
   "metadata": {},
   "outputs": [],
   "source": [
    "def print_statistics(df_pos, df_neg):\n",
    "    print(f\"Shape {df_pos.shape} for outcome = 1 {df_pos.shape[0] / (df_pos.shape[0] + df_neg.shape[0])}\")\n",
    "    print(f\"Shape {df_neg.shape} for outcome = 0\")\n",
    "    print(f\"Shape {(df_pos.shape[0] + df_neg.shape[0])} for total\")\n",
    "    print(f\"---\")\n",
    "    def print_numeric(col):\n",
    "        pos_stat = f\"{df_pos[col].describe()['50%']} [{df_pos[col].describe()['25%']}-{df_pos[col].describe()['75%']}]\"\n",
    "        neg_stat = f\"{df_neg[col].describe()['50%']} [{df_neg[col].describe()['25%']}-{df_neg[col].describe()['75%']}]\"\n",
    "        pos_missing = df_pos[col].isna().sum()\n",
    "        neg_missing = df_neg[col].isna().sum()\n",
    "        w, pval_raw = ranksums(df_pos[col], df_neg[col])\n",
    "        if pval_raw < 0.001:\n",
    "            p_val = \"< 0.001\"\n",
    "        else:\n",
    "            p_val = f\"{pval_raw:.3f}\"\n",
    "        print(f\"{col}, {pos_stat}, {pos_missing}, {neg_stat}, {neg_missing}, {p_val}\")\n",
    "    \n",
    "    def print_binary_col(col, val_1, val_2):\n",
    "        contingency_table = [\n",
    "            [df_pos[df_pos[col] == val_2].shape[0], df_neg[df_neg[col] == val_2].shape[0]],\n",
    "            [df_pos[df_pos[col] == val_1].shape[0], df_neg[df_neg[col] == val_1].shape[0]]\n",
    "        ]\n",
    "\n",
    "        stat, pval_raw, dof, expected = chi2_contingency(contingency_table, correction=False)\n",
    "        pos_f = df_pos[df_pos[col] == val_1].shape[0]\n",
    "        pos_m = df_pos[df_pos[col] == val_2].shape[0]\n",
    "        neg_f = df_neg[df_neg[col] == val_1].shape[0]\n",
    "        neg_m = df_neg[df_neg[col] == val_2].shape[0]\n",
    "        pos_f_missing = df_pos[df_pos[col] == val_1][col].isna().sum()\n",
    "        neg_f_missing = df_neg[df_neg[col] == val_1][col].isna().sum()\n",
    "        pos_m_missing = df_pos[df_pos[col] == val_2][col].isna().sum()\n",
    "        neg_m_missing = df_neg[df_neg[col] == val_2][col].isna().sum()\n",
    "        \n",
    "        if pval_raw < 0.001:\n",
    "            p = \"< 0.001\"\n",
    "        else:\n",
    "            p = f\"{pval_raw:.3f}\"\n",
    "        \n",
    "        print(f\"{col} - {val_1}, {pos_f} ({round(100*pos_f/(pos_f+pos_m), 2)}), {pos_f_missing}, {neg_f} ({round(100*neg_f/(neg_f+neg_m), 2)}), {neg_f_missing}, {p}\")\n",
    "        print(f\"{col} - {val_2}, {pos_m} ({round(100*pos_m/(pos_f+pos_m), 2)}), {pos_m_missing}, {neg_m} ({round(100*neg_m/(neg_f+neg_m), 2)}), {neg_m_missing},\")\n",
    "    \n",
    "    def print_risk_factor(col):\n",
    "        pos_missing = df_pos[col].isna().sum()\n",
    "        neg_missing = df_neg[col].isna().sum()\n",
    "        pval_raw = stats.ttest_ind(df_pos[col], df_neg[col], nan_policy=\"omit\", equal_var=False).pvalue\n",
    "        if pval_raw < 0.001:\n",
    "            pval = \"< 0.001\"\n",
    "        else:\n",
    "            pval = f\"{pval_raw:.3f}\"\n",
    "        print(f\"{col}, {int(df_pos[col].sum())} ({round(100 * df_pos[col].sum() / (len(df_pos[col]) - int(df_pos[col].isna().sum())), 2)}), {pos_missing}, {int(df_neg[col].sum())} ({round(100 * df_neg[col].sum() / (len(df_neg[col]) - int(df_neg[col].isna().sum())), 2)}), {neg_missing}, {pval}\")\n",
    "\n",
    "    # ---\n",
    "    print(\"Characteristic, Included Statistic, Included Missing, Excluded Statistic, Excluded Missing, p-value\")\n",
    "    print_numeric(\"Age\")\n",
    "    print_binary_col(\"Gender\", \"F\", \"M\")\n",
    "    print_binary_col(\"Acuity_high\", True, False)\n",
    "    print_binary_col(\"Acuity_1\", True, False)\n",
    "    print_binary_col(\"Acuity_2\", True, False)\n",
    "    print_binary_col(\"Acuity_3\", True, False)\n",
    "    print_binary_col(\"Acuity_4\", True, False)\n",
    "    print_binary_col(\"Acuity_5\", True, False)\n",
    "    print_binary_col(\"Admitted\", True, False)\n",
    "    \n",
    "#      '1-Resuscitation',\n",
    "#      '2-Emergent',\n",
    "#      '3-Urgent',\n",
    "#      '4-Semi-Urgent',\n",
    "#      '5-Non-Urgent\n",
    "    print_numeric(\"Triage_SpO2\")\n",
    "    print_numeric(\"Triage_RR\")\n",
    "    print_numeric(\"Triage_HR\")\n",
    "    print_numeric(\"Triage_Temp\")\n",
    "    print_numeric(\"Triage_SBP\")\n",
    "    print_numeric(\"Triage_DBP\")\n",
    "    print_numeric(\"Triage_MAP\")\n",
    "    print_numeric(\"ED_LOS\")\n"
   ]
  },
  {
   "cell_type": "code",
   "execution_count": null,
   "id": "283bae70",
   "metadata": {},
   "outputs": [],
   "source": [
    "admission_set = [\"Transfer to LPCH/PEC\", \"Admit to Inpatient\", \"Place in Observation\", \n",
    "                 \"Place in Observation-CDU\", \"Transfer to Psych\", \"Transfer to Outside Facility/Hospital\", \n",
    "                 \"Decision to Admit\", \"Place in Outpatient Procedure\", \"Send to Labor and Delivery\"]"
   ]
  },
  {
   "cell_type": "markdown",
   "id": "76d8132a",
   "metadata": {},
   "source": [
    "# 60 Min"
   ]
  },
  {
   "cell_type": "markdown",
   "id": "0ed0b598",
   "metadata": {},
   "source": [
    "## Load Files"
   ]
  },
  {
   "cell_type": "code",
   "execution_count": null,
   "id": "fb31fef2",
   "metadata": {},
   "outputs": [],
   "source": [
    "with open(\"/deep/group/ed-monitor-self-supervised/test_models_v1/final_ptid_splits_noabnormalities_task_all_60min.json\", \"r\") as f:\n",
    "    data_ids = json.load(f)\n",
    "    "
   ]
  },
  {
   "cell_type": "code",
   "execution_count": null,
   "id": "53c7eb67",
   "metadata": {},
   "outputs": [],
   "source": [
    "data_ids.keys()"
   ]
  },
  {
   "cell_type": "code",
   "execution_count": null,
   "id": "fad71e59",
   "metadata": {},
   "outputs": [],
   "source": [
    "print(len(data_ids[\"train_ids\"]))\n",
    "print(len(data_ids[\"val_ids\"]))\n",
    "print(len(data_ids[\"test_ids\"]))"
   ]
  },
  {
   "cell_type": "code",
   "execution_count": null,
   "id": "750ef7e8",
   "metadata": {},
   "outputs": [],
   "source": [
    "final_ids = []\n",
    "final_ids.extend(data_ids[\"train_ids\"])\n",
    "final_ids.extend(data_ids[\"val_ids\"])\n",
    "final_ids.extend(data_ids[\"test_ids\"])\n",
    "print(len(final_ids))"
   ]
  },
  {
   "cell_type": "code",
   "execution_count": null,
   "id": "f983b6c3",
   "metadata": {},
   "outputs": [],
   "source": [
    "df_labels = pd.read_csv(\"/deep/group/ed-monitor-self-supervised/test_models_v1/final_60min_labels_053022.csv\")\n",
    "df_labels = df_labels[df_labels[\"CSN\"].isin(final_ids)]\n",
    "print(df_labels.shape)\n",
    "df_labels.head(2)"
   ]
  },
  {
   "cell_type": "code",
   "execution_count": null,
   "id": "6950ab22",
   "metadata": {},
   "outputs": [],
   "source": [
    "df_tachy = df_labels[df_labels[\"HR\"] > 110]\n",
    "print(df_tachy.shape)\n",
    "df_tachy_pos = set(df_tachy[\"CSN\"].tolist())"
   ]
  },
  {
   "cell_type": "code",
   "execution_count": null,
   "id": "9131f743",
   "metadata": {},
   "outputs": [],
   "source": [
    "df_hypoxic = df_labels[df_labels[\"SPO2\"] < 90]\n",
    "print(df_hypoxic.shape)\n",
    "df_hypoxic_pos = set(df_hypoxic[\"CSN\"].tolist())\n",
    "print(len(df_hypoxic_pos))"
   ]
  },
  {
   "cell_type": "code",
   "execution_count": null,
   "id": "c37816e7",
   "metadata": {},
   "outputs": [],
   "source": [
    "df_hypotensive = df_labels[df_labels[\"MAP\"] < 65]\n",
    "print(df_hypotensive.shape)\n",
    "df_hypotensive_pos = set(df_hypotensive[\"CSN\"].tolist())\n",
    "print(len(df_hypotensive_pos))"
   ]
  },
  {
   "cell_type": "code",
   "execution_count": null,
   "id": "6e967217",
   "metadata": {},
   "outputs": [],
   "source": [
    "df = pd.read_csv(\"/deep/group/ed-monitor-self-supervised/v4/visits_ssl_2022_05_23.csv\")\n",
    "df = df[df[\"CSN\"].isin(final_ids)]\n",
    "print(df.shape)\n",
    "df.head(3)"
   ]
  },
  {
   "cell_type": "code",
   "execution_count": null,
   "id": "b35f0476",
   "metadata": {},
   "outputs": [],
   "source": [
    "df.groupby([\"Triage_acuity\"]).describe()"
   ]
  },
  {
   "cell_type": "code",
   "execution_count": null,
   "id": "ec630ef4",
   "metadata": {},
   "outputs": [],
   "source": [
    "df[\"Acuity_high\"] = (df[\"Triage_acuity\"] == \"1-Resuscitation\") | (df[\"Triage_acuity\"] == \"2-Emergent\")"
   ]
  },
  {
   "cell_type": "code",
   "execution_count": null,
   "id": "b08f6f15",
   "metadata": {},
   "outputs": [],
   "source": [
    "df[\"Acuity_1\"] = (df[\"Triage_acuity\"] == \"1-Resuscitation\")\n",
    "df[\"Acuity_2\"] = (df[\"Triage_acuity\"] == \"2-Emergent\")\n",
    "df[\"Acuity_3\"] = (df[\"Triage_acuity\"] == \"3-Urgent\")\n",
    "df[\"Acuity_4\"] = (df[\"Triage_acuity\"] == \"4-Semi-Urgent\")\n",
    "df[\"Acuity_5\"] = (df[\"Triage_acuity\"] == \"5-Non-Urgent\")"
   ]
  },
  {
   "cell_type": "code",
   "execution_count": null,
   "id": "18bbfeba",
   "metadata": {},
   "outputs": [],
   "source": [
    "df[\"Acuity_high\"]"
   ]
  },
  {
   "cell_type": "code",
   "execution_count": null,
   "id": "01c74f66",
   "metadata": {},
   "outputs": [],
   "source": [
    "set(df[\"Triage_acuity\"].tolist())"
   ]
  },
  {
   "cell_type": "code",
   "execution_count": null,
   "id": "fec7228e-14de-4578-9dd3-329c2692f46b",
   "metadata": {},
   "outputs": [],
   "source": [
    "df['Admitted'] = [val in admission_set for val in df[\"ED_dispo\"]]\n",
    "df['Admitted']"
   ]
  },
  {
   "cell_type": "code",
   "execution_count": null,
   "id": "4f3cd98d",
   "metadata": {},
   "outputs": [],
   "source": [
    "df[\"outcome_tachycardic\"] = df.apply (lambda row: int(row[\"CSN\"] in df_tachy_pos), axis=1)\n",
    "df[\"outcome_hypotensive\"] = df.apply (lambda row: int(row[\"CSN\"] in df_hypotensive_pos), axis=1)\n",
    "df[\"outcome_hypoxic\"] = df.apply (lambda row: int(row[\"CSN\"] in df_hypoxic_pos), axis=1)\n",
    "df.head(3)"
   ]
  },
  {
   "cell_type": "code",
   "execution_count": null,
   "id": "4046045c",
   "metadata": {},
   "outputs": [],
   "source": [
    "df[\"Align_from_arrival\"] = df[\"Arrival_to_roomed\"] + df[\"Align_from_roomed\"]\n",
    "df.head(1)"
   ]
  },
  {
   "cell_type": "markdown",
   "id": "164365eb",
   "metadata": {},
   "source": [
    "## Statistics"
   ]
  },
  {
   "cell_type": "code",
   "execution_count": null,
   "id": "387f6161",
   "metadata": {},
   "outputs": [],
   "source": [
    "# CI difference in populations\n",
    "# https://www.dummies.com/education/math/statistics/creating-a-confidence-interval-for-the-difference-of-two-means-with-known-standard-deviations/\n",
    "\n",
    "def diff_in_cols(df_pos, df_neg, col):\n",
    "    acs_std = df_pos[col].describe()[\"std\"]\n",
    "    nonacs_std = df_neg[col].describe()[\"std\"]\n",
    "    ci_diff = 1.96 * math.sqrt(((acs_std ** 2) / df_pos.shape[0]) + ((nonacs_std ** 2) / df_neg.shape[0]))\n",
    "    diff = df_pos[col].describe()[\"50%\"] - df_neg[col].describe()[\"50%\"] \n",
    "    print(f\"{col} difference = {round(diff, 3)} [{round(diff - ci_diff, 3)}-{round(diff + ci_diff, 3)}]\")\n"
   ]
  },
  {
   "cell_type": "markdown",
   "id": "4c696991",
   "metadata": {},
   "source": [
    "### Tachycardic"
   ]
  },
  {
   "cell_type": "code",
   "execution_count": null,
   "id": "2e4d798a",
   "metadata": {},
   "outputs": [],
   "source": [
    "df_pos = df[df[\"outcome_tachycardic\"] == 1]\n",
    "df_neg = df[df[\"outcome_tachycardic\"] == 0]\n",
    "print_statistics(df_pos, df_neg)"
   ]
  },
  {
   "cell_type": "code",
   "execution_count": null,
   "id": "9d7ae8c6",
   "metadata": {},
   "outputs": [],
   "source": [
    "diff_in_cols(df_neg, df_pos, \"Age\")"
   ]
  },
  {
   "cell_type": "code",
   "execution_count": null,
   "id": "93eeeae1",
   "metadata": {},
   "outputs": [],
   "source": [
    "diff_in_cols(df_pos, df_neg, \"ED_LOS\")"
   ]
  },
  {
   "cell_type": "code",
   "execution_count": null,
   "id": "21180a75",
   "metadata": {},
   "outputs": [],
   "source": [
    "diff_in_cols(df_pos, df_neg, \"Triage_HR\")"
   ]
  },
  {
   "cell_type": "code",
   "execution_count": null,
   "id": "0ffef1aa",
   "metadata": {},
   "outputs": [],
   "source": [
    "diff_in_cols(df_pos, df_neg, \"Triage_MAP\")"
   ]
  },
  {
   "cell_type": "code",
   "execution_count": null,
   "id": "1e857c83",
   "metadata": {},
   "outputs": [],
   "source": [
    "diff_in_cols(df_pos, df_neg, \"Triage_RR\")"
   ]
  },
  {
   "cell_type": "markdown",
   "id": "417fedd7",
   "metadata": {},
   "source": [
    "### Hypoxic"
   ]
  },
  {
   "cell_type": "code",
   "execution_count": null,
   "id": "1f5de1c1",
   "metadata": {},
   "outputs": [],
   "source": [
    "df_pos = df[df[\"outcome_hypoxic\"] == 1]\n",
    "df_neg = df[df[\"outcome_hypoxic\"] == 0]\n",
    "print_statistics(df_pos, df_neg)"
   ]
  },
  {
   "cell_type": "code",
   "execution_count": null,
   "id": "2230f7ff",
   "metadata": {},
   "outputs": [],
   "source": [
    "diff_in_cols(df_pos, df_neg, \"Age\")"
   ]
  },
  {
   "cell_type": "code",
   "execution_count": null,
   "id": "e9f90450",
   "metadata": {},
   "outputs": [],
   "source": [
    "diff_in_cols(df_pos, df_neg, \"ED_LOS\")"
   ]
  },
  {
   "cell_type": "code",
   "execution_count": null,
   "id": "0df1c75d",
   "metadata": {},
   "outputs": [],
   "source": [
    "diff_in_cols(df_pos, df_neg, \"Triage_HR\")"
   ]
  },
  {
   "cell_type": "code",
   "execution_count": null,
   "id": "8e009edb",
   "metadata": {},
   "outputs": [],
   "source": [
    "diff_in_cols(df_neg, df_pos, \"Triage_SpO2\")"
   ]
  },
  {
   "cell_type": "code",
   "execution_count": null,
   "id": "d214498c",
   "metadata": {},
   "outputs": [],
   "source": [
    "diff_in_cols(df_pos, df_neg, \"Triage_MAP\")"
   ]
  },
  {
   "cell_type": "code",
   "execution_count": null,
   "id": "a42babda",
   "metadata": {},
   "outputs": [],
   "source": [
    "diff_in_cols(df_pos, df_neg, \"Triage_RR\")"
   ]
  },
  {
   "cell_type": "markdown",
   "id": "826405b7",
   "metadata": {},
   "source": [
    "### Hypotension"
   ]
  },
  {
   "cell_type": "code",
   "execution_count": null,
   "id": "acae7aba",
   "metadata": {},
   "outputs": [],
   "source": [
    "df_pos = df[df[\"outcome_hypotensive\"] == 1]\n",
    "df_neg = df[df[\"outcome_hypotensive\"] == 0]\n",
    "print_statistics(df_pos, df_neg)"
   ]
  },
  {
   "cell_type": "code",
   "execution_count": null,
   "id": "f640be3a",
   "metadata": {},
   "outputs": [],
   "source": [
    "diff_in_cols(df_pos, df_neg, \"ED_LOS\")"
   ]
  },
  {
   "cell_type": "code",
   "execution_count": null,
   "id": "f4f63758",
   "metadata": {},
   "outputs": [],
   "source": [
    "diff_in_cols(df_pos, df_neg, \"Triage_HR\")"
   ]
  },
  {
   "cell_type": "code",
   "execution_count": null,
   "id": "b4e67566",
   "metadata": {},
   "outputs": [],
   "source": [
    "diff_in_cols(df_neg, df_pos, \"Triage_MAP\")"
   ]
  },
  {
   "cell_type": "code",
   "execution_count": null,
   "id": "cac38c9c",
   "metadata": {},
   "outputs": [],
   "source": [
    "diff_in_cols(df_pos, df_neg, \"Triage_RR\")"
   ]
  },
  {
   "cell_type": "markdown",
   "id": "163cef4d",
   "metadata": {},
   "source": [
    "# 90 Min"
   ]
  },
  {
   "cell_type": "markdown",
   "id": "6ac24aae",
   "metadata": {},
   "source": [
    "## Load Files"
   ]
  },
  {
   "cell_type": "code",
   "execution_count": null,
   "id": "54255564",
   "metadata": {},
   "outputs": [],
   "source": [
    "with open(\"/deep/group/ed-monitor-self-supervised/test_models_v1/final_ptid_splits_noabnormalities_task_all_90min.json\", \"r\") as f:\n",
    "    data_ids = json.load(f)\n",
    "    "
   ]
  },
  {
   "cell_type": "code",
   "execution_count": null,
   "id": "716f1b23",
   "metadata": {},
   "outputs": [],
   "source": [
    "data_ids.keys()"
   ]
  },
  {
   "cell_type": "code",
   "execution_count": null,
   "id": "4e24f2cf",
   "metadata": {},
   "outputs": [],
   "source": [
    "print(len(data_ids[\"train_ids\"]))\n",
    "print(len(data_ids[\"val_ids\"]))\n",
    "print(len(data_ids[\"test_ids\"]))"
   ]
  },
  {
   "cell_type": "code",
   "execution_count": null,
   "id": "5038dc15",
   "metadata": {},
   "outputs": [],
   "source": [
    "final_ids = []\n",
    "final_ids.extend(data_ids[\"train_ids\"])\n",
    "final_ids.extend(data_ids[\"val_ids\"])\n",
    "final_ids.extend(data_ids[\"test_ids\"])\n",
    "print(len(final_ids))"
   ]
  },
  {
   "cell_type": "code",
   "execution_count": null,
   "id": "c93bacb1",
   "metadata": {},
   "outputs": [],
   "source": [
    "df_labels = pd.read_csv(\"/deep/group/ed-monitor-self-supervised/test_models_v1/final_90min_labels_053022.csv\")\n",
    "df_labels = df_labels[df_labels[\"CSN\"].isin(final_ids)]\n",
    "print(df_labels.shape)\n",
    "df_labels.head(2)"
   ]
  },
  {
   "cell_type": "code",
   "execution_count": null,
   "id": "de5125aa",
   "metadata": {},
   "outputs": [],
   "source": [
    "df_labels_60 = pd.read_csv(\"/deep/group/ed-monitor-self-supervised/test_models_v1/final_60min_labels_053022.csv\")\n",
    "df_labels_60 = df_labels_60[df_labels_60[\"CSN\"].isin(final_ids)]\n",
    "print(df_labels_60.shape)\n",
    "df_labels_60.head(2)"
   ]
  },
  {
   "cell_type": "code",
   "execution_count": null,
   "id": "ad1e7380",
   "metadata": {},
   "outputs": [],
   "source": [
    "df_tachy = df_labels_60[df_labels_60[\"HR\"] > 110]\n",
    "print(df_tachy.shape)\n",
    "df_tachy_pos = set(df_tachy[\"CSN\"].tolist())"
   ]
  },
  {
   "cell_type": "code",
   "execution_count": null,
   "id": "a8b135fd",
   "metadata": {},
   "outputs": [],
   "source": [
    "df_tachy = df_labels[df_labels[\"HR\"] > 110]\n",
    "print(df_tachy.shape)\n",
    "df_tachy_pos = set(df_tachy[\"CSN\"].tolist())"
   ]
  },
  {
   "cell_type": "code",
   "execution_count": null,
   "id": "79f7ca91",
   "metadata": {},
   "outputs": [],
   "source": [
    "df_hypoxic = df_labels[df_labels[\"SPO2\"] < 90]\n",
    "print(df_hypoxic.shape)\n",
    "df_hypoxic_pos = set(df_hypoxic[\"CSN\"].tolist())\n",
    "print(len(df_hypoxic_pos))"
   ]
  },
  {
   "cell_type": "code",
   "execution_count": null,
   "id": "abe08019",
   "metadata": {},
   "outputs": [],
   "source": [
    "df_hypotensive = df_labels[df_labels[\"MAP\"] < 65]\n",
    "print(df_hypotensive.shape)\n",
    "df_hypotensive_pos = set(df_hypotensive[\"CSN\"].tolist())\n",
    "print(len(df_hypotensive_pos))"
   ]
  },
  {
   "cell_type": "code",
   "execution_count": null,
   "id": "e6f6180b",
   "metadata": {},
   "outputs": [],
   "source": [
    "df = pd.read_csv(\"/deep/group/ed-monitor-self-supervised/v4/visits_ssl_2022_05_23.csv\")\n",
    "df = df[df[\"CSN\"].isin(final_ids)]\n",
    "print(df.shape)\n",
    "df.head(3)"
   ]
  },
  {
   "cell_type": "code",
   "execution_count": null,
   "id": "46f9823e",
   "metadata": {},
   "outputs": [],
   "source": [
    "df.groupby([\"Triage_acuity\"]).describe()"
   ]
  },
  {
   "cell_type": "code",
   "execution_count": null,
   "id": "70c1a9aa",
   "metadata": {},
   "outputs": [],
   "source": [
    "df[\"Acuity_high\"] = (df[\"Triage_acuity\"] == \"1-Resuscitation\") | (df[\"Triage_acuity\"] == \"2-Emergent\")"
   ]
  },
  {
   "cell_type": "code",
   "execution_count": null,
   "id": "50eae5c9",
   "metadata": {},
   "outputs": [],
   "source": [
    "df[\"Acuity_1\"] = (df[\"Triage_acuity\"] == \"1-Resuscitation\")\n",
    "df[\"Acuity_2\"] = (df[\"Triage_acuity\"] == \"2-Emergent\")\n",
    "df[\"Acuity_3\"] = (df[\"Triage_acuity\"] == \"3-Urgent\")\n",
    "df[\"Acuity_4\"] = (df[\"Triage_acuity\"] == \"4-Semi-Urgent\")\n",
    "df[\"Acuity_5\"] = (df[\"Triage_acuity\"] == \"5-Non-Urgent\")"
   ]
  },
  {
   "cell_type": "code",
   "execution_count": null,
   "id": "4c5cf201",
   "metadata": {},
   "outputs": [],
   "source": [
    "df[\"Acuity_high\"]"
   ]
  },
  {
   "cell_type": "code",
   "execution_count": null,
   "id": "942ca7c1",
   "metadata": {},
   "outputs": [],
   "source": [
    "set(df[\"Triage_acuity\"].tolist())"
   ]
  },
  {
   "cell_type": "code",
   "execution_count": null,
   "id": "f0fefcba-68a4-46f4-998f-092e1ae76ec3",
   "metadata": {},
   "outputs": [],
   "source": [
    "df['Admitted'] = [val in admission_set for val in df[\"ED_dispo\"]]\n",
    "df['Admitted']"
   ]
  },
  {
   "cell_type": "code",
   "execution_count": null,
   "id": "729f08d2",
   "metadata": {},
   "outputs": [],
   "source": [
    "df[\"outcome_tachycardic\"] = df.apply (lambda row: int(row[\"CSN\"] in df_tachy_pos), axis=1)\n",
    "df[\"outcome_hypotensive\"] = df.apply (lambda row: int(row[\"CSN\"] in df_hypotensive_pos), axis=1)\n",
    "df[\"outcome_hypoxic\"] = df.apply (lambda row: int(row[\"CSN\"] in df_hypoxic_pos), axis=1)\n",
    "df.head(3)"
   ]
  },
  {
   "cell_type": "code",
   "execution_count": null,
   "id": "e6f2a1f3",
   "metadata": {},
   "outputs": [],
   "source": [
    "df[\"Align_from_arrival\"] = df[\"Arrival_to_roomed\"] + df[\"Align_from_roomed\"]\n",
    "df.head(1)"
   ]
  },
  {
   "cell_type": "markdown",
   "id": "aff2f0ef",
   "metadata": {},
   "source": [
    "## Statistics"
   ]
  },
  {
   "cell_type": "code",
   "execution_count": null,
   "id": "05851ebe",
   "metadata": {},
   "outputs": [],
   "source": [
    "# CI difference in populations\n",
    "# https://www.dummies.com/education/math/statistics/creating-a-confidence-interval-for-the-difference-of-two-means-with-known-standard-deviations/\n",
    "\n",
    "def diff_in_cols(df_pos, df_neg, col):\n",
    "    acs_std = df_pos[col].describe()[\"std\"]\n",
    "    nonacs_std = df_neg[col].describe()[\"std\"]\n",
    "    ci_diff = 1.96 * math.sqrt(((acs_std ** 2) / df_pos.shape[0]) + ((nonacs_std ** 2) / df_neg.shape[0]))\n",
    "    diff = df_pos[col].describe()[\"50%\"] - df_neg[col].describe()[\"50%\"] \n",
    "    print(f\"{col} difference = {round(diff, 3)} [{round(diff - ci_diff, 3)}-{round(diff + ci_diff, 3)}]\")\n"
   ]
  },
  {
   "cell_type": "markdown",
   "id": "ed3be515",
   "metadata": {},
   "source": [
    "### Tachycardic"
   ]
  },
  {
   "cell_type": "code",
   "execution_count": null,
   "id": "40bbff76",
   "metadata": {},
   "outputs": [],
   "source": [
    "df_pos = df[df[\"outcome_tachycardic\"] == 1]\n",
    "df_neg = df[df[\"outcome_tachycardic\"] == 0]\n",
    "print_statistics(df_pos, df_neg)"
   ]
  },
  {
   "cell_type": "code",
   "execution_count": null,
   "id": "495305a1",
   "metadata": {},
   "outputs": [],
   "source": [
    "diff_in_cols(df_neg, df_pos, \"Age\")"
   ]
  },
  {
   "cell_type": "code",
   "execution_count": null,
   "id": "f8f7b9f8",
   "metadata": {},
   "outputs": [],
   "source": [
    "diff_in_cols(df_pos, df_neg, \"ED_LOS\")"
   ]
  },
  {
   "cell_type": "code",
   "execution_count": null,
   "id": "8bdc9ff8",
   "metadata": {},
   "outputs": [],
   "source": [
    "diff_in_cols(df_pos, df_neg, \"Triage_HR\")"
   ]
  },
  {
   "cell_type": "code",
   "execution_count": null,
   "id": "7226a1b2",
   "metadata": {},
   "outputs": [],
   "source": [
    "diff_in_cols(df_pos, df_neg, \"Triage_MAP\")"
   ]
  },
  {
   "cell_type": "code",
   "execution_count": null,
   "id": "b9ee8a60",
   "metadata": {},
   "outputs": [],
   "source": [
    "diff_in_cols(df_pos, df_neg, \"Triage_RR\")"
   ]
  },
  {
   "cell_type": "markdown",
   "id": "1c72c380",
   "metadata": {},
   "source": [
    "### Hypoxic"
   ]
  },
  {
   "cell_type": "code",
   "execution_count": null,
   "id": "45afd17f",
   "metadata": {},
   "outputs": [],
   "source": [
    "df_pos = df[df[\"outcome_hypoxic\"] == 1]\n",
    "df_neg = df[df[\"outcome_hypoxic\"] == 0]\n",
    "print_statistics(df_pos, df_neg)"
   ]
  },
  {
   "cell_type": "code",
   "execution_count": null,
   "id": "5149c24b",
   "metadata": {},
   "outputs": [],
   "source": [
    "diff_in_cols(df_pos, df_neg, \"Age\")"
   ]
  },
  {
   "cell_type": "code",
   "execution_count": null,
   "id": "a8275ae5",
   "metadata": {},
   "outputs": [],
   "source": [
    "diff_in_cols(df_pos, df_neg, \"ED_LOS\")"
   ]
  },
  {
   "cell_type": "code",
   "execution_count": null,
   "id": "f7a5108f",
   "metadata": {},
   "outputs": [],
   "source": [
    "diff_in_cols(df_pos, df_neg, \"Triage_HR\")"
   ]
  },
  {
   "cell_type": "code",
   "execution_count": null,
   "id": "cf0ca958",
   "metadata": {},
   "outputs": [],
   "source": [
    "diff_in_cols(df_neg, df_pos, \"Triage_SpO2\")"
   ]
  },
  {
   "cell_type": "code",
   "execution_count": null,
   "id": "6ae1534e",
   "metadata": {},
   "outputs": [],
   "source": [
    "diff_in_cols(df_pos, df_neg, \"Triage_MAP\")"
   ]
  },
  {
   "cell_type": "code",
   "execution_count": null,
   "id": "7a7d550a",
   "metadata": {},
   "outputs": [],
   "source": [
    "diff_in_cols(df_pos, df_neg, \"Triage_RR\")"
   ]
  },
  {
   "cell_type": "markdown",
   "id": "35d92f97",
   "metadata": {},
   "source": [
    "### Hypotension"
   ]
  },
  {
   "cell_type": "code",
   "execution_count": null,
   "id": "98106461",
   "metadata": {},
   "outputs": [],
   "source": [
    "df_pos = df[df[\"outcome_hypotensive\"] == 1]\n",
    "df_neg = df[df[\"outcome_hypotensive\"] == 0]\n",
    "print_statistics(df_pos, df_neg)"
   ]
  },
  {
   "cell_type": "code",
   "execution_count": null,
   "id": "4fb58c19",
   "metadata": {},
   "outputs": [],
   "source": [
    "diff_in_cols(df_pos, df_neg, \"ED_LOS\")"
   ]
  },
  {
   "cell_type": "code",
   "execution_count": null,
   "id": "6d12a840",
   "metadata": {},
   "outputs": [],
   "source": [
    "diff_in_cols(df_pos, df_neg, \"Triage_HR\")"
   ]
  },
  {
   "cell_type": "code",
   "execution_count": null,
   "id": "1ab61310",
   "metadata": {},
   "outputs": [],
   "source": [
    "diff_in_cols(df_neg, df_pos, \"Triage_MAP\")"
   ]
  },
  {
   "cell_type": "code",
   "execution_count": null,
   "id": "f149843b",
   "metadata": {},
   "outputs": [],
   "source": [
    "diff_in_cols(df_pos, df_neg, \"Triage_RR\")"
   ]
  },
  {
   "cell_type": "markdown",
   "id": "aefeb31a",
   "metadata": {},
   "source": [
    "# 120 Min"
   ]
  },
  {
   "cell_type": "markdown",
   "id": "3195c868",
   "metadata": {},
   "source": [
    "## Load Files"
   ]
  },
  {
   "cell_type": "code",
   "execution_count": null,
   "id": "e01cb9c8",
   "metadata": {},
   "outputs": [],
   "source": [
    "with open(\"/deep/group/ed-monitor-self-supervised/test_models_v1/final_ptid_splits_noabnormalities_task_all_120min.json\", \"r\") as f:\n",
    "    data_ids = json.load(f)\n",
    "    "
   ]
  },
  {
   "cell_type": "code",
   "execution_count": null,
   "id": "53bd805d",
   "metadata": {},
   "outputs": [],
   "source": [
    "data_ids.keys()"
   ]
  },
  {
   "cell_type": "code",
   "execution_count": null,
   "id": "9fe0eed6",
   "metadata": {},
   "outputs": [],
   "source": [
    "print(len(data_ids[\"train_ids\"]))\n",
    "print(len(data_ids[\"val_ids\"]))\n",
    "print(len(data_ids[\"test_ids\"]))"
   ]
  },
  {
   "cell_type": "code",
   "execution_count": null,
   "id": "df2f5ac7",
   "metadata": {},
   "outputs": [],
   "source": [
    "final_ids = []\n",
    "final_ids.extend(data_ids[\"train_ids\"])\n",
    "final_ids.extend(data_ids[\"val_ids\"])\n",
    "final_ids.extend(data_ids[\"test_ids\"])\n",
    "print(len(final_ids))"
   ]
  },
  {
   "cell_type": "code",
   "execution_count": null,
   "id": "de2f4d5f",
   "metadata": {},
   "outputs": [],
   "source": [
    "df_labels = pd.read_csv(\"/deep/group/ed-monitor-self-supervised/test_models_v1/final_120min_labels_053022.csv\")\n",
    "df_labels = df_labels[df_labels[\"CSN\"].isin(final_ids)]\n",
    "print(df_labels.shape)\n",
    "df_labels.head(2)"
   ]
  },
  {
   "cell_type": "code",
   "execution_count": null,
   "id": "6153cdbb",
   "metadata": {},
   "outputs": [],
   "source": [
    "df_tachy = df_labels[df_labels[\"HR\"] > 110]\n",
    "print(df_tachy.shape)\n",
    "df_tachy_pos = set(df_tachy[\"CSN\"].tolist())"
   ]
  },
  {
   "cell_type": "code",
   "execution_count": null,
   "id": "665b02b5",
   "metadata": {},
   "outputs": [],
   "source": [
    "df_hypoxic = df_labels[df_labels[\"SPO2\"] < 90]\n",
    "print(df_hypoxic.shape)\n",
    "df_hypoxic_pos = set(df_hypoxic[\"CSN\"].tolist())\n",
    "print(len(df_hypoxic_pos))"
   ]
  },
  {
   "cell_type": "code",
   "execution_count": null,
   "id": "9dc17d91",
   "metadata": {},
   "outputs": [],
   "source": [
    "df_hypotensive = df_labels[df_labels[\"MAP\"] < 65]\n",
    "print(df_hypotensive.shape)\n",
    "df_hypotensive_pos = set(df_hypotensive[\"CSN\"].tolist())\n",
    "print(len(df_hypotensive_pos))"
   ]
  },
  {
   "cell_type": "code",
   "execution_count": null,
   "id": "3b2c6bb2",
   "metadata": {},
   "outputs": [],
   "source": [
    "df = pd.read_csv(\"/deep/group/ed-monitor-self-supervised/v4/visits_ssl_2022_05_23.csv\")\n",
    "df = df[df[\"CSN\"].isin(final_ids)]\n",
    "print(df.shape)\n",
    "df.head(3)"
   ]
  },
  {
   "cell_type": "code",
   "execution_count": null,
   "id": "e521405d",
   "metadata": {},
   "outputs": [],
   "source": [
    "df.groupby([\"Triage_acuity\"]).describe()"
   ]
  },
  {
   "cell_type": "code",
   "execution_count": null,
   "id": "ba99624a",
   "metadata": {},
   "outputs": [],
   "source": [
    "df[\"Acuity_high\"] = (df[\"Triage_acuity\"] == \"1-Resuscitation\") | (df[\"Triage_acuity\"] == \"2-Emergent\")"
   ]
  },
  {
   "cell_type": "code",
   "execution_count": null,
   "id": "ac94e6b1",
   "metadata": {},
   "outputs": [],
   "source": [
    "df[\"Acuity_1\"] = (df[\"Triage_acuity\"] == \"1-Resuscitation\")\n",
    "df[\"Acuity_2\"] = (df[\"Triage_acuity\"] == \"2-Emergent\")\n",
    "df[\"Acuity_3\"] = (df[\"Triage_acuity\"] == \"3-Urgent\")\n",
    "df[\"Acuity_4\"] = (df[\"Triage_acuity\"] == \"4-Semi-Urgent\")\n",
    "df[\"Acuity_5\"] = (df[\"Triage_acuity\"] == \"5-Non-Urgent\")"
   ]
  },
  {
   "cell_type": "code",
   "execution_count": null,
   "id": "43e3b333",
   "metadata": {},
   "outputs": [],
   "source": [
    "df[\"Acuity_high\"]"
   ]
  },
  {
   "cell_type": "code",
   "execution_count": null,
   "id": "3b4c0807",
   "metadata": {},
   "outputs": [],
   "source": [
    "set(df[\"Triage_acuity\"].tolist())"
   ]
  },
  {
   "cell_type": "code",
   "execution_count": null,
   "id": "84a9b370-ac3a-4a22-8374-83c57a236474",
   "metadata": {},
   "outputs": [],
   "source": [
    "df['Admitted'] = [val in admission_set for val in df[\"ED_dispo\"]]\n",
    "df['Admitted']"
   ]
  },
  {
   "cell_type": "code",
   "execution_count": null,
   "id": "14948cb5",
   "metadata": {},
   "outputs": [],
   "source": [
    "df[\"outcome_tachycardic\"] = df.apply (lambda row: int(row[\"CSN\"] in df_tachy_pos), axis=1)\n",
    "df[\"outcome_hypotensive\"] = df.apply (lambda row: int(row[\"CSN\"] in df_hypotensive_pos), axis=1)\n",
    "df[\"outcome_hypoxic\"] = df.apply (lambda row: int(row[\"CSN\"] in df_hypoxic_pos), axis=1)\n",
    "df.head(3)"
   ]
  },
  {
   "cell_type": "code",
   "execution_count": null,
   "id": "4db65297",
   "metadata": {},
   "outputs": [],
   "source": [
    "df[\"Align_from_arrival\"] = df[\"Arrival_to_roomed\"] + df[\"Align_from_roomed\"]\n",
    "df.head(1)"
   ]
  },
  {
   "cell_type": "markdown",
   "id": "0383aaaa",
   "metadata": {},
   "source": [
    "## Statistics"
   ]
  },
  {
   "cell_type": "code",
   "execution_count": null,
   "id": "2664dcd5",
   "metadata": {},
   "outputs": [],
   "source": [
    "# CI difference in populations\n",
    "# https://www.dummies.com/education/math/statistics/creating-a-confidence-interval-for-the-difference-of-two-means-with-known-standard-deviations/\n",
    "\n",
    "def diff_in_cols(df_pos, df_neg, col):\n",
    "    acs_std = df_pos[col].describe()[\"std\"]\n",
    "    nonacs_std = df_neg[col].describe()[\"std\"]\n",
    "    ci_diff = 1.96 * math.sqrt(((acs_std ** 2) / df_pos.shape[0]) + ((nonacs_std ** 2) / df_neg.shape[0]))\n",
    "    diff = df_pos[col].describe()[\"50%\"] - df_neg[col].describe()[\"50%\"] \n",
    "    print(f\"{col} difference = {round(diff, 3)} [{round(diff - ci_diff, 3)}-{round(diff + ci_diff, 3)}]\")\n"
   ]
  },
  {
   "cell_type": "markdown",
   "id": "f807b321",
   "metadata": {},
   "source": [
    "### Tachycardic"
   ]
  },
  {
   "cell_type": "code",
   "execution_count": null,
   "id": "d7123482",
   "metadata": {},
   "outputs": [],
   "source": [
    "df_pos = df[df[\"outcome_tachycardic\"] == 1]\n",
    "df_neg = df[df[\"outcome_tachycardic\"] == 0]\n",
    "print_statistics(df_pos, df_neg)"
   ]
  },
  {
   "cell_type": "code",
   "execution_count": null,
   "id": "53ca0741",
   "metadata": {},
   "outputs": [],
   "source": [
    "diff_in_cols(df_neg, df_pos, \"Age\")"
   ]
  },
  {
   "cell_type": "code",
   "execution_count": null,
   "id": "5183c12e",
   "metadata": {},
   "outputs": [],
   "source": [
    "diff_in_cols(df_pos, df_neg, \"ED_LOS\")"
   ]
  },
  {
   "cell_type": "code",
   "execution_count": null,
   "id": "c48545f3",
   "metadata": {},
   "outputs": [],
   "source": [
    "diff_in_cols(df_pos, df_neg, \"Triage_HR\")"
   ]
  },
  {
   "cell_type": "code",
   "execution_count": null,
   "id": "47eec9aa",
   "metadata": {},
   "outputs": [],
   "source": [
    "diff_in_cols(df_pos, df_neg, \"Triage_MAP\")"
   ]
  },
  {
   "cell_type": "code",
   "execution_count": null,
   "id": "c96bf7e2",
   "metadata": {},
   "outputs": [],
   "source": [
    "diff_in_cols(df_pos, df_neg, \"Triage_RR\")"
   ]
  },
  {
   "cell_type": "markdown",
   "id": "64555403",
   "metadata": {},
   "source": [
    "### Hypoxic"
   ]
  },
  {
   "cell_type": "code",
   "execution_count": null,
   "id": "c049a7ac",
   "metadata": {},
   "outputs": [],
   "source": [
    "df_pos = df[df[\"outcome_hypoxic\"] == 1]\n",
    "df_neg = df[df[\"outcome_hypoxic\"] == 0]\n",
    "print_statistics(df_pos, df_neg)"
   ]
  },
  {
   "cell_type": "code",
   "execution_count": null,
   "id": "0f2607ad",
   "metadata": {},
   "outputs": [],
   "source": [
    "diff_in_cols(df_pos, df_neg, \"Age\")"
   ]
  },
  {
   "cell_type": "code",
   "execution_count": null,
   "id": "d5f0e956",
   "metadata": {},
   "outputs": [],
   "source": [
    "diff_in_cols(df_pos, df_neg, \"ED_LOS\")"
   ]
  },
  {
   "cell_type": "code",
   "execution_count": null,
   "id": "8a40ea9c",
   "metadata": {},
   "outputs": [],
   "source": [
    "diff_in_cols(df_pos, df_neg, \"Triage_HR\")"
   ]
  },
  {
   "cell_type": "code",
   "execution_count": null,
   "id": "c332f722",
   "metadata": {},
   "outputs": [],
   "source": [
    "diff_in_cols(df_neg, df_pos, \"Triage_SpO2\")"
   ]
  },
  {
   "cell_type": "code",
   "execution_count": null,
   "id": "86fad693",
   "metadata": {},
   "outputs": [],
   "source": [
    "diff_in_cols(df_pos, df_neg, \"Triage_MAP\")"
   ]
  },
  {
   "cell_type": "code",
   "execution_count": null,
   "id": "1d940da7",
   "metadata": {},
   "outputs": [],
   "source": [
    "diff_in_cols(df_pos, df_neg, \"Triage_RR\")"
   ]
  },
  {
   "cell_type": "markdown",
   "id": "6cd064f3",
   "metadata": {},
   "source": [
    "### Hypotension"
   ]
  },
  {
   "cell_type": "code",
   "execution_count": null,
   "id": "0abb89c9",
   "metadata": {},
   "outputs": [],
   "source": [
    "df_pos = df[df[\"outcome_hypotensive\"] == 1]\n",
    "df_neg = df[df[\"outcome_hypotensive\"] == 0]\n",
    "print_statistics(df_pos, df_neg)"
   ]
  },
  {
   "cell_type": "code",
   "execution_count": null,
   "id": "867b1cf6",
   "metadata": {},
   "outputs": [],
   "source": [
    "diff_in_cols(df_pos, df_neg, \"ED_LOS\")"
   ]
  },
  {
   "cell_type": "code",
   "execution_count": null,
   "id": "90db281f",
   "metadata": {},
   "outputs": [],
   "source": [
    "diff_in_cols(df_pos, df_neg, \"Triage_HR\")"
   ]
  },
  {
   "cell_type": "code",
   "execution_count": null,
   "id": "73bd2a27",
   "metadata": {},
   "outputs": [],
   "source": [
    "diff_in_cols(df_neg, df_pos, \"Triage_MAP\")"
   ]
  },
  {
   "cell_type": "code",
   "execution_count": null,
   "id": "500fe5e9",
   "metadata": {},
   "outputs": [],
   "source": [
    "diff_in_cols(df_pos, df_neg, \"Triage_RR\")"
   ]
  },
  {
   "cell_type": "code",
   "execution_count": null,
   "id": "cc627d28",
   "metadata": {},
   "outputs": [],
   "source": []
  },
  {
   "cell_type": "code",
   "execution_count": null,
   "id": "e7eec42f",
   "metadata": {},
   "outputs": [],
   "source": []
  },
  {
   "cell_type": "code",
   "execution_count": null,
   "id": "1c7625ce",
   "metadata": {},
   "outputs": [],
   "source": []
  },
  {
   "cell_type": "code",
   "execution_count": null,
   "id": "8d2e52aa",
   "metadata": {},
   "outputs": [],
   "source": []
  }
 ],
 "metadata": {
  "kernelspec": {
   "display_name": "Python 3",
   "language": "python",
   "name": "python3"
  },
  "language_info": {
   "codemirror_mode": {
    "name": "ipython",
    "version": 3
   },
   "file_extension": ".py",
   "mimetype": "text/x-python",
   "name": "python",
   "nbconvert_exporter": "python",
   "pygments_lexer": "ipython3",
   "version": "3.9.7"
  }
 },
 "nbformat": 4,
 "nbformat_minor": 5
}
