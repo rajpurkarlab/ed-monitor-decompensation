{
 "cells": [
  {
   "cell_type": "code",
   "execution_count": null,
   "id": "25355c0f",
   "metadata": {},
   "outputs": [],
   "source": [
    "import h5py\n",
    "import pandas as pd\n",
    "import numpy as np\n",
    "import pytz\n",
    "from datetime import datetime, timedelta\n",
    "import h5py\n",
    "import pickle\n",
    "import matplotlib.pyplot as plt\n",
    "from edm.utils.waveforms import WAVEFORMS_OF_INTERST, get_waveform\n",
    "from tqdm import tqdm\n",
    "\n",
    "pd.set_option('display.max_columns', None)"
   ]
  },
  {
   "cell_type": "markdown",
   "id": "bf536d04",
   "metadata": {},
   "source": [
    "## Load Data"
   ]
  },
  {
   "cell_type": "code",
   "execution_count": null,
   "id": "2c4292fc",
   "metadata": {},
   "outputs": [],
   "source": [
    "df = pd.read_csv(\"/deep/group/ed-monitor-self-supervised/v4/visits_2020_08_01_2022_04_30.csv\")\n",
    "df = df.drop([\"Name\", \"MRN\", \"Birth_date\"], axis=1)\n",
    "print(df.shape)\n",
    "df.head(3)"
   ]
  },
  {
   "cell_type": "code",
   "execution_count": null,
   "id": "f5f60c2c",
   "metadata": {},
   "outputs": [],
   "source": [
    "# Note that this dataset originally came from a dataset that was previously matched so \n",
    "# we can do the following column mapping.\n",
    "df[\"First_bed\"] = df[\"First_room\"]\n",
    "df[\"Last_bed\"] = df[\"First_room\"]\n",
    "\n",
    "df.to_csv(\"/deep/group/ed-monitor-self-supervised/v4/visits_2020_08_01_2022_04_30.csv\", index=False)"
   ]
  },
  {
   "cell_type": "markdown",
   "id": "375b42bc",
   "metadata": {},
   "source": [
    "## Perform Matching"
   ]
  },
  {
   "cell_type": "markdown",
   "id": "a8c9198a",
   "metadata": {},
   "source": [
    "**This file above was then sent through the match.py script to produced a subset containing matched beds**"
   ]
  },
  {
   "cell_type": "markdown",
   "id": "f5a6582c",
   "metadata": {},
   "source": [
    "```\n",
    "python /deep/u/tomjin/ed-monitor-data/processing/match.py -ci /deep/group/ed-monitor-self-supervised/v4/visits_2020_08_01_2022_04_30.csv -ef /deep/group/ed-monitor/2020_08_23_2020_09_23,/deep/group/ed-monitor/2020_09_23_2020_11_30,/deep/group/ed-monitor/2020_11_30_2020_12_31,/deep/group/ed-monitor/2021_01_01_2021_01_31,/deep/group/ed-monitor/2021_02_01_2021_02_28,/deep/group/ed-monitor/2021_03_01_2021_03_31,/deep/group/ed-monitor/2021_04_01_2021_05_12,/deep/group/ed-monitor/2021_05_13_2021_05_31,/deep/group/ed-monitor/2021_06_01_2021_06_30,/deep/group/ed-monitor/2021_07_01_2021_07_31,/deep/group/ed-monitor/2021_08_01_2021_09_16,/deep/group/ed-monitor/2021_09_17_2021_10_31,/deep/group/ed-monitor/2021_11_01_2021_12_28,/deep/group/ed-monitor/2021_12_29_2022_02_28,/deep/group/ed-monitor/2022_03_01_2022_04_26 -co /deep/group/ed-monitor-self-supervised/v4/matched-cohort.csv -eo /deep/group/ed-monitor-self-supervised/v4/matched-export.csv\n",
    "```\n",
    "\n",
    "```\n",
    "...\n",
    "Total export file combined: (73869, 26)\n",
    "After removing beds with bad times: (73328, 26)\n",
    "After removing duplicate studies: (70855, 27)\n",
    "Starting matching process...\n",
    "101126it [08:27, 199.41it/s]\n",
    "A total of 90195 cases have matching beds\n",
    "After removing non-matching studies: (90195, 33)\n",
    "Size: 90195 Pos: 0; Eliminated 10931 and pos 0\n",
    "======\n",
    "Files written to:\n",
    "- /deep/group/ed-monitor-self-supervised/v4/matched-cohort.csv\n",
    "- /deep/group/ed-monitor-self-supervised/v4/matched-export.csv\n",
    "Done\n",
    "\n",
    "\n",
    "\n",
    "```"
   ]
  },
  {
   "cell_type": "code",
   "execution_count": null,
   "id": "b2ceecf6",
   "metadata": {},
   "outputs": [],
   "source": [
    "df_cohort = pd.read_csv(\"/deep/group/ed-monitor-self-supervised/v4/matched-cohort.csv\")\n",
    "print(df_cohort.shape)\n",
    "df_cohort.head(3)\n"
   ]
  },
  {
   "cell_type": "code",
   "execution_count": null,
   "id": "8f8bf22f",
   "metadata": {},
   "outputs": [],
   "source": [
    "df_cohort['time'] = df_cohort.apply(lambda row: datetime.strptime(row[\"Arrival_time\"], \"%Y-%m-%dT%H:%M:%SZ\"), axis=1)\n",
    "df_cohort.head(2)"
   ]
  },
  {
   "cell_type": "code",
   "execution_count": null,
   "id": "c2de4c71",
   "metadata": {},
   "outputs": [],
   "source": [
    "fig, ax = plt.subplots(1, 1, figsize=(12, 3))\n",
    "fig.tight_layout()\n",
    "plt.hist(df_cohort[\"time\"], 50)\n",
    "plt.show()"
   ]
  },
  {
   "cell_type": "markdown",
   "id": "c31eacb1",
   "metadata": {},
   "source": [
    "## Prepare ED Numerics\n",
    "\n",
    "This is similar to Consolidate, but only for the numerics data and not the waveforms. For this, we will just continue off of where we left off for the V3 dataset.\n",
    "\n",
    "This is needed for David, since he is looking for the CSV files for the numeric datasets."
   ]
  },
  {
   "cell_type": "markdown",
   "id": "e030253a",
   "metadata": {},
   "source": [
    "\n",
    "```\n",
    "python -u /deep/u/tomjin/ed-monitor-data/processing/prepare_ed_numerics_from_matched_cohort.py -i /deep/group/ed-monitor-self-supervised/v4/matched-cohort.csv -d /deep/group/ed-monitor/2020_08_23_2020_09_23,/deep/group/ed-monitor/2020_09_23_2020_11_30,/deep/group/ed-monitor/2020_11_30_2020_12_31,/deep/group/ed-monitor/2021_01_01_2021_01_31,/deep/group/ed-monitor/2021_02_01_2021_02_28,/deep/group/ed-monitor/2021_03_01_2021_03_31,/deep/group/ed-monitor/2021_04_01_2021_05_12,/deep/group/ed-monitor/2021_05_13_2021_05_31,/deep/group/ed-monitor/2021_06_01_2021_06_30,/deep/group/ed-monitor/2021_07_01_2021_07_31,/deep/group/ed-monitor/2021_08_01_2021_09_16,/deep/group/ed-monitor/2021_09_17_2021_10_31,/deep/group/ed-monitor/2021_11_01_2021_12_28,/deep/group/ed-monitor/2021_12_29_2022_02_28,/deep/group/ed-monitor/2022_03_01_2022_04_26 -o /deep/group/physiologic-states/v3/processed -s \"2021-12-27T00:00:00Z\"\n",
    "```"
   ]
  },
  {
   "cell_type": "markdown",
   "id": "86ea1414",
   "metadata": {},
   "source": [
    "`submit_summarize_numerics.sh`\n",
    "\n",
    "Creates the summary.csv file\n",
    "\n",
    "```\n",
    "python -u /deep/u/tomjin/ed-monitor-data/processing/summarize_ed_numerics.py -i /deep/group/physiologic-states/v3/processed\n",
    "```\n"
   ]
  },
  {
   "cell_type": "markdown",
   "id": "2fad3664",
   "metadata": {},
   "source": [
    "`submit_process_to_csv.sh`\n",
    "\n",
    "Converts PKL to CSV files for David.\n",
    "\n",
    "```\n",
    "python -u /deep/u/tomjin/ed-monitor-data/processing/process_ed_numerics_to_csv.py -i /deep/group/physiologic-states/v3/processed -o /deep/group/physiologic-states/v3/csv\n",
    "```"
   ]
  },
  {
   "cell_type": "code",
   "execution_count": null,
   "id": "c2af7823",
   "metadata": {},
   "outputs": [],
   "source": [
    "!wc -l /deep/group/physiologic-states/v3/csv/summary.csv"
   ]
  },
  {
   "cell_type": "markdown",
   "id": "88745caf",
   "metadata": {},
   "source": [
    "## Consolidate"
   ]
  },
  {
   "cell_type": "markdown",
   "id": "74e3f616",
   "metadata": {},
   "source": [
    "Goes through each patient and consolidates the numeric data and waveforms based on the start/end times of each patient.\n",
    "\n",
    "```\n",
    "python -u /deep/u/tomjin/ed-monitor-data/processing/consolidate_numerics_waveforms.py -m /deep/group/ed-monitor-self-supervised/v4/matched-cohort.csv -e /deep/group/ed-monitor-self-supervised/v4/matched-export.csv -o /deep/group/ed-monitor-self-supervised/v4/patient-data -f /deep/group/ed-monitor-self-supervised/v4/consolidated.csv -c /deep/group/ed-monitor-self-supervised/v4/consolidated.csv.bak\n",
    "```"
   ]
  },
  {
   "cell_type": "markdown",
   "id": "33104b67",
   "metadata": {},
   "source": [
    "Above command timed out, so we restart the command again."
   ]
  },
  {
   "cell_type": "markdown",
   "id": "803aa8c2",
   "metadata": {},
   "source": [
    "### Split Matched Cohort File"
   ]
  },
  {
   "cell_type": "code",
   "execution_count": null,
   "id": "12510770",
   "metadata": {},
   "outputs": [],
   "source": [
    "# Split file into three pieces, since it is really slow\n",
    "#\n",
    "df = pd.read_csv(\"/deep/group/ed-monitor-self-supervised/v4/matched-cohort.csv\")\n",
    "print(df.shape)\n",
    "df.head(2)"
   ]
  },
  {
   "cell_type": "code",
   "execution_count": null,
   "id": "5e36dbbc",
   "metadata": {},
   "outputs": [],
   "source": [
    "df_1 = df.iloc[:30000, :]\n",
    "df_2 = df.iloc[30000:60000, :]\n",
    "df_3 = df.iloc[60000:, :]"
   ]
  },
  {
   "cell_type": "code",
   "execution_count": null,
   "id": "1f919034",
   "metadata": {},
   "outputs": [],
   "source": [
    "print(df_1.shape)\n",
    "print(df_2.shape)\n",
    "print(df_3.shape)"
   ]
  },
  {
   "cell_type": "code",
   "execution_count": null,
   "id": "bb878026",
   "metadata": {},
   "outputs": [],
   "source": [
    "df_1.to_csv(\"/deep/group/ed-monitor-self-supervised/v4/matched-cohort.1.csv\", index=False)\n",
    "df_2.to_csv(\"/deep/group/ed-monitor-self-supervised/v4/matched-cohort.2.csv\", index=False)\n",
    "df_3.to_csv(\"/deep/group/ed-monitor-self-supervised/v4/matched-cohort.3.csv\", index=False)\n"
   ]
  },
  {
   "cell_type": "markdown",
   "id": "805da294",
   "metadata": {},
   "source": [
    "### Run the consolidation script..."
   ]
  },
  {
   "cell_type": "markdown",
   "id": "a4e11ce2",
   "metadata": {},
   "source": [
    "\n",
    "```\n",
    "python -u /deep/u/tomjin/ed-monitor-data/processing/consolidate_numerics_waveforms.py -m /deep/group/ed-monitor-self-supervised/v4/matched-cohort.1.csv -e /deep/group/ed-monitor-self-supervised/v4/matched-export.csv -o /deep/group/ed-monitor-self-supervised/v4/patient-data -f /deep/group/ed-monitor-self-supervised/v4/consolidated.1.csv -c /deep/group/ed-monitor-self-supervised/v4/consolidated.csv.bak\n",
    "```\n",
    "\n",
    "```\n",
    "python -u /deep/u/tomjin/ed-monitor-data/processing/consolidate_numerics_waveforms.py -m /deep/group/ed-monitor-self-supervised/v4/matched-cohort.2.csv -e /deep/group/ed-monitor-self-supervised/v4/matched-export.csv -o /deep/group/ed-monitor-self-supervised/v4/patient-data -f /deep/group/ed-monitor-self-supervised/v4/consolidated.2.csv -c /deep/group/ed-monitor-self-supervised/v4/consolidated.csv.bak\n",
    "```\n",
    "\n",
    "```\n",
    "python -u /deep/u/tomjin/ed-monitor-data/processing/consolidate_numerics_waveforms.py -m /deep/group/ed-monitor-self-supervised/v4/matched-cohort.3.csv -e /deep/group/ed-monitor-self-supervised/v4/matched-export.csv -o /deep/group/ed-monitor-self-supervised/v4/patient-data -f /deep/group/ed-monitor-self-supervised/v4/consolidated.3.csv -c /deep/group/ed-monitor-self-supervised/v4/consolidated.csv.bak\n",
    "```"
   ]
  },
  {
   "cell_type": "markdown",
   "id": "f4abc3fe",
   "metadata": {},
   "source": [
    "### Rejoin The Consolidation File"
   ]
  },
  {
   "cell_type": "code",
   "execution_count": null,
   "id": "2ca78aa3",
   "metadata": {},
   "outputs": [],
   "source": [
    "df_1 = pd.read_csv(\"/deep/group/ed-monitor-self-supervised/v4/consolidated.1.csv\")\n",
    "print(df_1.shape)\n",
    "df_2 = pd.read_csv(\"/deep/group/ed-monitor-self-supervised/v4/consolidated.2.csv\")\n",
    "print(df_2.shape)\n",
    "df_3 = pd.read_csv(\"/deep/group/ed-monitor-self-supervised/v4/consolidated.3.csv\")\n",
    "print(df_3.shape)"
   ]
  },
  {
   "cell_type": "code",
   "execution_count": null,
   "id": "13e4f8e5",
   "metadata": {},
   "outputs": [],
   "source": [
    "df = pd.concat([df_1, df_2, df_3])\n",
    "print(df.shape)\n",
    "df.head(2)"
   ]
  },
  {
   "cell_type": "code",
   "execution_count": null,
   "id": "31514c0f",
   "metadata": {},
   "outputs": [],
   "source": [
    "df = df.drop_duplicates('patient_id')\n",
    "print(df.shape)\n",
    "df.head(2)"
   ]
  },
  {
   "cell_type": "code",
   "execution_count": null,
   "id": "bc77ee5b",
   "metadata": {},
   "outputs": [],
   "source": [
    "df.to_csv(\"/deep/group/ed-monitor-self-supervised/v4/consolidated.csv\", index=False)"
   ]
  },
  {
   "cell_type": "code",
   "execution_count": null,
   "id": "942a04c2",
   "metadata": {},
   "outputs": [],
   "source": []
  },
  {
   "cell_type": "markdown",
   "id": "d452732c",
   "metadata": {},
   "source": [
    "### Discover Alignment Times"
   ]
  },
  {
   "cell_type": "code",
   "execution_count": null,
   "id": "18590ed9",
   "metadata": {},
   "outputs": [],
   "source": [
    "pre_minutes_min = 15\n",
    "\n",
    "output_rows = []\n",
    "\n",
    "for i, row in tqdm(df.iterrows()):\n",
    "    csn = row[\"patient_id\"]\n",
    "    waveform_start = row[\"waveform_start_time\"]\n",
    "    if isinstance(waveform_start, float):\n",
    "        continue\n",
    "    waveform_start = datetime.strptime(waveform_start, '%Y-%m-%d %H:%M:%S%z')\n",
    "    waveform_end = row[\"waveform_end_time\"]\n",
    "    if isinstance(waveform_end, float):\n",
    "        continue\n",
    "    waveform_end = datetime.strptime(waveform_end, '%Y-%m-%d %H:%M:%S%z')\n",
    "\n",
    "    recommended_trim_start_sec = int(row[\"recommended_trim_start_sec\"])\n",
    "    recommended_trim_end_sec = int(row[\"recommended_trim_end_sec\"])\n",
    "\n",
    "    start_time = waveform_start + timedelta(seconds=(recommended_trim_start_sec))\n",
    "    alignment_time = start_time + timedelta(seconds=(pre_minutes_min * 60))\n",
    "    csn_to_alignment_time[csn] = alignment_time\n",
    "    \n",
    "    alignment_time_timestamp = int(alignment_time.timestamp())\n",
    "    output_rows.append([csn, alignment_time_timestamp, alignment_time.isoformat()])\n"
   ]
  },
  {
   "cell_type": "code",
   "execution_count": null,
   "id": "7d97fb6b",
   "metadata": {},
   "outputs": [],
   "source": [
    "df_alignment = pd.DataFrame(output_rows, columns =['csn', 'alignment_time', 'alignment_dt'])\n",
    "print(df_alignment.shape)\n",
    "df_alignment.head(2)"
   ]
  },
  {
   "cell_type": "code",
   "execution_count": null,
   "id": "3c93ae98",
   "metadata": {},
   "outputs": [],
   "source": [
    "df_alignment.to_csv(\"/deep/group/ed-monitor-self-supervised/v4/consolidated.15min.alignment_times.csv\", index=False)"
   ]
  },
  {
   "cell_type": "code",
   "execution_count": null,
   "id": "a2578520",
   "metadata": {},
   "outputs": [],
   "source": [
    "b[\"HR\"][:10]"
   ]
  },
  {
   "cell_type": "markdown",
   "id": "56fedf87",
   "metadata": {},
   "source": [
    "## 15 min / 60 min - (60 sec waveforms)"
   ]
  },
  {
   "cell_type": "markdown",
   "id": "29589c9f",
   "metadata": {},
   "source": [
    "### Generate Dataset"
   ]
  },
  {
   "cell_type": "code",
   "execution_count": null,
   "id": "f12c23af",
   "metadata": {},
   "outputs": [],
   "source": [
    "df_consolid = pd.read_csv(\"/deep/group/ed-monitor-self-supervised/v4/consolidated.csv\")\n",
    "print(df_consolid.shape)\n",
    "df_consolid.head(2)"
   ]
  },
  {
   "cell_type": "code",
   "execution_count": null,
   "id": "8bb20f87",
   "metadata": {},
   "outputs": [],
   "source": [
    "df_ssl = pd.read_csv(\"/deep/group/ed-monitor-self-supervised/v4/visits_ssl_2022_05_23.csv\")\n",
    "print(df_ssl.shape)\n",
    "df_ssl.head(2)\n",
    "\n",
    "valid_patient_ids = set(df_ssl[\"CSN\"].tolist())\n",
    "print(len(valid_patient_ids))"
   ]
  },
  {
   "cell_type": "markdown",
   "id": "7d5a710a",
   "metadata": {},
   "source": [
    "We find that many IDs were removed because not all modality data was available..."
   ]
  },
  {
   "cell_type": "code",
   "execution_count": null,
   "id": "dc8813d4",
   "metadata": {},
   "outputs": [],
   "source": [
    "\n",
    "orig_patient_ids = set(df_consolid[\"patient_id\"].tolist())\n",
    "print(len(orig_patient_ids))\n",
    "removed_patient_ids = orig_patient_ids - valid_patient_ids\n",
    "print(len(removed_patient_ids))\n"
   ]
  },
  {
   "cell_type": "code",
   "execution_count": null,
   "id": "ff952872",
   "metadata": {},
   "outputs": [],
   "source": [
    "df_consolid = df_consolid[df_consolid[\"patient_id\"].isin(valid_patient_ids)]\n",
    "print(df_consolid.shape)"
   ]
  },
  {
   "cell_type": "code",
   "execution_count": null,
   "id": "48dfd695",
   "metadata": {},
   "outputs": [],
   "source": [
    "df_consolid.to_csv(\"/deep/group/ed-monitor-self-supervised/v4/consolidated.visits_ssl_2022_05_23.csv\", index=False)"
   ]
  },
  {
   "cell_type": "code",
   "execution_count": null,
   "id": "18ad4c69",
   "metadata": {},
   "outputs": [],
   "source": [
    "# Divide into two pieces for faster processing\n",
    "\n",
    "df_consolid_1 = df_consolid.iloc[:20000, :]\n",
    "df_consolid_2 = df_consolid.iloc[20000:, :]\n",
    "\n",
    "print(df_consolid_1.shape)\n",
    "print(df_consolid_2.shape)"
   ]
  },
  {
   "cell_type": "code",
   "execution_count": null,
   "id": "9a97ff63",
   "metadata": {},
   "outputs": [],
   "source": [
    "df_consolid_1.to_csv(\"/deep/group/ed-monitor-self-supervised/v4/consolidated.visits_ssl_2022_05_23.1.csv\", index=False)\n",
    "df_consolid_2.to_csv(\"/deep/group/ed-monitor-self-supervised/v4/consolidated.visits_ssl_2022_05_23.2.csv\", index=False)"
   ]
  },
  {
   "cell_type": "markdown",
   "id": "9b621946",
   "metadata": {},
   "source": [
    "### Run Script\n",
    "Takes roughly 24 hours"
   ]
  },
  {
   "cell_type": "markdown",
   "id": "eee0b32d",
   "metadata": {},
   "source": [
    " \n",
    "```\n",
    "python -u /deep/u/tomjin/ed-monitor-self-supervised/preprocessing/generate_downstream_dataset.py --input-dir /deep/group/ed-monitor-self-supervised/v4/patient-data --input-file /deep/group/ed-monitor-self-supervised/v4/consolidated.visits_ssl_2022_05_23.1.csv --output-data-file /deep/group/ed-monitor-self-supervised/v4/downstream.15min.60min.60sec.1.h5 --output-summary-file /deep/group/ed-monitor-self-supervised/v4/downstream.15min.60min.60sec.1.csv --pre-minutes 15 --post-minutes 60 --waveform-length 60\n",
    "```\n",
    "\n",
    " \n",
    "```\n",
    "python -u /deep/u/tomjin/ed-monitor-self-supervised/preprocessing/generate_downstream_dataset.py --input-dir /deep/group/ed-monitor-self-supervised/v4/patient-data --input-file /deep/group/ed-monitor-self-supervised/v4/consolidated.visits_ssl_2022_05_23.2.csv --output-data-file /deep/group/ed-monitor-self-supervised/v4/downstream.15min.60min.60sec.2.h5 --output-summary-file /deep/group/ed-monitor-self-supervised/v4/downstream.15min.60min.60sec.2.csv --pre-minutes 15 --post-minutes 60 --waveform-length 60\n",
    "```"
   ]
  },
  {
   "cell_type": "markdown",
   "id": "921a568e",
   "metadata": {},
   "source": [
    "### Rejoin Output"
   ]
  },
  {
   "cell_type": "code",
   "execution_count": null,
   "id": "d5283301",
   "metadata": {},
   "outputs": [],
   "source": [
    "df_downstream_1 = pd.read_csv(\"/deep/group/ed-monitor-self-supervised/v4/downstream.15min.60min.60sec.1.csv\")\n",
    "print(df_downstream_1.shape)\n",
    "df_downstream_1.head(2)"
   ]
  },
  {
   "cell_type": "code",
   "execution_count": null,
   "id": "1ceacb1f",
   "metadata": {},
   "outputs": [],
   "source": [
    "df_downstream_2 = pd.read_csv(\"/deep/group/ed-monitor-self-supervised/v4/downstream.15min.60min.60sec.2.csv\")\n",
    "print(df_downstream_2.shape)\n",
    "df_downstream_2.head(2)"
   ]
  },
  {
   "cell_type": "code",
   "execution_count": null,
   "id": "6a10a2d3",
   "metadata": {},
   "outputs": [],
   "source": [
    "df_downstream = pd.concat([df_downstream_1, df_downstream_2])\n",
    "print(df_downstream.shape)"
   ]
  },
  {
   "cell_type": "code",
   "execution_count": null,
   "id": "68a082c5",
   "metadata": {},
   "outputs": [],
   "source": [
    "df_downstream.to_csv(\"/deep/group/ed-monitor-self-supervised/v4/downstream.15min.60min.60sec.csv\", index=False)"
   ]
  },
  {
   "cell_type": "code",
   "execution_count": null,
   "id": "d6a49225",
   "metadata": {},
   "outputs": [],
   "source": [
    "with h5py.File(\"/deep/group/ed-monitor-self-supervised/v4/downstream.15min.60min.60sec.1.h5\", \"r\") as f:\n",
    "    print(f.keys())\n",
    "    print(f['alignment_times'].shape)\n",
    "    print(f['numerics_after'].keys())\n",
    "    print(f['numerics_before'].keys())\n",
    "    print(f['waveforms'].keys())\n",
    "    print(f['waveforms']['II'].keys())\n",
    "    print(f['waveforms']['II']['waveforms'].shape)"
   ]
  },
  {
   "cell_type": "code",
   "execution_count": null,
   "id": "13e25d49",
   "metadata": {},
   "outputs": [],
   "source": [
    "TYPE_II = \"II\"\n",
    "TYPE_PLETH = \"Pleth\"\n",
    "WAVEFORM_COLUMNS = [TYPE_II, TYPE_PLETH]\n",
    "NUMERIC_COLUMNS = ['HR', 'RR', 'SpO2', 'btbRRInt_ms', 'NBPs', 'NBPd', 'Perf']\n",
    "\n",
    "with h5py.File(\"/deep/group/ed-monitor-self-supervised/v4/downstream.15min.60min.60sec.1.h5\", \"r\") as f1:\n",
    "    with h5py.File(\"/deep/group/ed-monitor-self-supervised/v4/downstream.15min.60min.60sec.2.h5\", \"r\") as f2:\n",
    "        with h5py.File(\"/deep/group/ed-monitor-self-supervised/v4/downstream.15min.60min.60sec.h5\", \"w\") as f:\n",
    "            f.create_dataset(\"alignment_times\", data=np.concatenate((f1['alignment_times'][:], f2['alignment_times'][:]), axis=0))\n",
    "            f.create_dataset(\"alignment_vals\", data=np.concatenate((f1['alignment_vals'][:], f2['alignment_vals'][:]), axis=0))\n",
    "            dset_before = f.create_group(\"numerics_before\")\n",
    "            dset_after = f.create_group(\"numerics_after\")\n",
    "            for k in NUMERIC_COLUMNS:\n",
    "                dset_k = dset_before.create_group(k)\n",
    "                dset_k.create_dataset(f\"vals\", data=np.concatenate((f1[\"numerics_before\"][k][\"vals\"][:], f2[\"numerics_before\"][k][\"vals\"][:]), axis=0))\n",
    "                dset_k.create_dataset(f\"times\", data=np.concatenate((f1[\"numerics_before\"][k][\"times\"][:], f2[\"numerics_before\"][k][\"times\"][:]), axis=0))\n",
    "                dset_k = dset_after.create_group(k)\n",
    "                dset_k.create_dataset(f\"vals\", data=np.concatenate((f1[\"numerics_after\"][k][\"vals\"][:], f2[\"numerics_after\"][k][\"vals\"][:]), axis=0))\n",
    "                dset_k.create_dataset(f\"times\", data=np.concatenate((f1[\"numerics_after\"][k][\"times\"][:], f2[\"numerics_after\"][k][\"times\"][:]), axis=0))\n",
    "\n",
    "            dset = f.create_group(\"waveforms\")\n",
    "            for k in WAVEFORM_COLUMNS:\n",
    "                dset_k = dset.create_group(k)\n",
    "                dset_k.create_dataset(\"waveforms\", data=np.concatenate((f1[\"waveforms\"][k][\"waveforms\"][:], f2[\"waveforms\"][k][\"waveforms\"][:]), axis=0))\n",
    "                dset_k.create_dataset(\"qualities\", data=np.concatenate((f1[\"waveforms\"][k][\"qualities\"][:], f2[\"waveforms\"][k][\"qualities\"][:]), axis=0))\n"
   ]
  },
  {
   "cell_type": "code",
   "execution_count": null,
   "id": "f8f3fc34",
   "metadata": {},
   "outputs": [],
   "source": [
    "with h5py.File(\"/deep/group/ed-monitor-self-supervised/v4/downstream.15min.60min.60sec.h5\", \"r\") as f:\n",
    "    print(f.keys())\n",
    "    print(f['alignment_times'].shape)\n",
    "    print(f['numerics_after'].keys())\n",
    "    print(f['numerics_before'].keys())\n",
    "    print(f['numerics_after']['HR']['vals'].shape)\n",
    "    print(f['numerics_before']['HR']['vals'].shape)\n",
    "    print(f['waveforms'].keys())\n",
    "    print(f['waveforms']['II'].keys())\n",
    "    print(f['waveforms']['II']['waveforms'].shape)"
   ]
  },
  {
   "cell_type": "markdown",
   "id": "53302b88",
   "metadata": {},
   "source": [
    "### Sanity Plots"
   ]
  },
  {
   "cell_type": "code",
   "execution_count": null,
   "id": "99ca3422",
   "metadata": {},
   "outputs": [],
   "source": [
    "filename = \"/deep/group/ed-monitor-self-supervised/v4/downstream.15min.60min.60sec.h5\"\n",
    "with h5py.File(filename, \"r\") as f:\n",
    "    print(f.get('waveforms')[\"II\"][\"waveforms\"][()].shape)\n",
    "    print(f.get('waveforms')[\"Pleth\"][\"waveforms\"][()].shape)"
   ]
  },
  {
   "cell_type": "code",
   "execution_count": null,
   "id": "5d199b5c",
   "metadata": {},
   "outputs": [],
   "source": [
    "filename = \"/deep/group/ed-monitor-self-supervised/v4/downstream.15min.60min.60sec.h5\"\n",
    "with h5py.File(filename, \"r\") as f:\n",
    "    ecg_waveforms = f.get('waveforms')[\"II\"][\"waveforms\"][()]\n",
    "    pleth_waveforms = f.get('waveforms')[\"Pleth\"][\"waveforms\"][()]\n",
    "    plt.rcParams.update({'font.size': 8})\n",
    "    a4_dims = (12, 3)\n",
    "    fig, (ax1, ax2) = plt.subplots(2, figsize=a4_dims)\n",
    "    ax1.plot(ecg_waveforms[1])\n",
    "    ax2.plot(pleth_waveforms[1])\n",
    "    plt.show()"
   ]
  },
  {
   "cell_type": "code",
   "execution_count": null,
   "id": "f1e3103c",
   "metadata": {},
   "outputs": [],
   "source": []
  },
  {
   "cell_type": "code",
   "execution_count": null,
   "id": "b05e33b2",
   "metadata": {},
   "outputs": [],
   "source": [
    "filename = \"/deep/group/ed-monitor-self-supervised/v4/downstream.15min.60min.60sec.h5\"\n",
    "with h5py.File(filename, \"r\") as f:\n",
    "    a4_dims = (12, 1.5)\n",
    "    fig, (ax1) = plt.subplots(1, figsize=a4_dims)\n",
    "\n",
    "    vals = f.get('numerics_after')[\"HR\"][\"vals\"][()][15]\n",
    "\n",
    "    ax1.plot(vals * 1.1)\n",
    "    ax1.plot(range(len(vals)), np.ones(len(vals)) * 110, 'k-', color=\"orange\")\n",
    "    ax1.fill_between(range(len(vals)), np.ones(len(vals)) * 110, np.ones(len(vals)) * 150, alpha=0.4, label='Tachycardia', color=\"orange\")\n",
    "    ax1.set_xticks([])\n",
    "    plt.show()"
   ]
  },
  {
   "cell_type": "code",
   "execution_count": null,
   "id": "e8f1116c",
   "metadata": {},
   "outputs": [],
   "source": [
    "filename = \"/deep/group/ed-monitor-self-supervised/v4/downstream.15min.60min.60sec.h5\"\n",
    "with h5py.File(filename, \"r\") as f:\n",
    "    \n",
    "    ind = 0\n",
    "    a4_dims = (12, 6)\n",
    "    fig, (ax1, ax2, ax3, ax4, ax5, ax6) = plt.subplots(6, figsize=a4_dims)\n",
    "    ax1.plot(f.get('numerics_before')[\"HR\"][\"vals\"][()][ind])\n",
    "    ax2.plot(f.get('numerics_before')[\"RR\"][\"vals\"][()][ind])\n",
    "    ax3.plot(f.get('numerics_before')[\"SpO2\"][\"vals\"][()][ind])\n",
    "    ax4.plot(f.get('numerics_before')[\"btbRRInt_ms\"][\"vals\"][()][ind])\n",
    "    ax5.plot((2 * f.get('numerics_before')[\"NBPd\"][\"vals\"][()][10] + f.get('numerics_before')[\"NBPs\"][\"vals\"][()][10]) / 3)\n",
    "    ax6.plot(f.get('numerics_before')[\"Perf\"][\"vals\"][()][ind])\n",
    "    ax1.set_xticks([])\n",
    "    ax2.set_xticks([])\n",
    "    ax3.set_xticks([])\n",
    "    ax4.set_xticks([])\n",
    "    ax5.set_xticks([])\n",
    "    ax6.set_xticks([])\n",
    "    plt.show()\n",
    "    \n",
    "#     vals = f.get('numerics_after')[\"Perf\"][\"vals\"][()][15]\n",
    "\n",
    "#     ax1.plot(vals * 1.1)\n",
    "#     ax1.set_xticks([])\n",
    "#     plt.show()"
   ]
  },
  {
   "cell_type": "code",
   "execution_count": null,
   "id": "865aa0de",
   "metadata": {},
   "outputs": [],
   "source": []
  },
  {
   "cell_type": "code",
   "execution_count": null,
   "id": "4ebe8b57",
   "metadata": {},
   "outputs": [],
   "source": []
  },
  {
   "cell_type": "markdown",
   "id": "f8040b81",
   "metadata": {},
   "source": [
    "## 15 min / 90 min - (60 sec waveforms)"
   ]
  },
  {
   "cell_type": "markdown",
   "id": "dcb7249e",
   "metadata": {},
   "source": [
    "### Rejoin Output"
   ]
  },
  {
   "cell_type": "code",
   "execution_count": null,
   "id": "b8063e49",
   "metadata": {},
   "outputs": [],
   "source": [
    "df_downstream_1 = pd.read_csv(\"/deep/group/ed-monitor-self-supervised/v4/downstream.15min.90min.60sec.1.csv\")\n",
    "print(df_downstream_1.shape)\n",
    "df_downstream_1.head(2)"
   ]
  },
  {
   "cell_type": "code",
   "execution_count": null,
   "id": "294e2bec",
   "metadata": {},
   "outputs": [],
   "source": [
    "df_downstream_2 = pd.read_csv(\"/deep/group/ed-monitor-self-supervised/v4/downstream.15min.90min.60sec.2.csv\")\n",
    "print(df_downstream_2.shape)\n",
    "df_downstream_2.head(2)"
   ]
  },
  {
   "cell_type": "code",
   "execution_count": null,
   "id": "3a178f19",
   "metadata": {},
   "outputs": [],
   "source": [
    "df_downstream = pd.concat([df_downstream_1, df_downstream_2])\n",
    "print(df_downstream.shape)"
   ]
  },
  {
   "cell_type": "code",
   "execution_count": null,
   "id": "f9d4c5b5",
   "metadata": {},
   "outputs": [],
   "source": [
    "df_downstream.to_csv(\"/deep/group/ed-monitor-self-supervised/v4/downstream.15min.90min.60sec.csv\", index=False)"
   ]
  },
  {
   "cell_type": "code",
   "execution_count": null,
   "id": "4e4659ce",
   "metadata": {},
   "outputs": [],
   "source": []
  },
  {
   "cell_type": "code",
   "execution_count": null,
   "id": "6af2e55f",
   "metadata": {},
   "outputs": [],
   "source": [
    "TYPE_II = \"II\"\n",
    "TYPE_PLETH = \"Pleth\"\n",
    "WAVEFORM_COLUMNS = [TYPE_II, TYPE_PLETH]\n",
    "NUMERIC_COLUMNS = ['HR', 'RR', 'SpO2', 'btbRRInt_ms', 'NBPs', 'NBPd', 'Perf']\n",
    "\n",
    "with h5py.File(\"/deep/group/ed-monitor-self-supervised/v4/downstream.15min.90min.60sec.1.h5\", \"r\") as f1:\n",
    "    with h5py.File(\"/deep/group/ed-monitor-self-supervised/v4/downstream.15min.90min.60sec.2.h5\", \"r\") as f2:\n",
    "        with h5py.File(\"/deep/group/ed-monitor-self-supervised/v4/downstream.15min.90min.60sec.h5\", \"w\") as f:\n",
    "            f.create_dataset(\"alignment_times\", data=np.concatenate((f1['alignment_times'][:], f2['alignment_times'][:]), axis=0))\n",
    "            f.create_dataset(\"alignment_vals\", data=np.concatenate((f1['alignment_vals'][:], f2['alignment_vals'][:]), axis=0))\n",
    "            dset_before = f.create_group(\"numerics_before\")\n",
    "            dset_after = f.create_group(\"numerics_after\")\n",
    "            for k in NUMERIC_COLUMNS:\n",
    "                dset_k = dset_before.create_group(k)\n",
    "                dset_k.create_dataset(f\"vals\", data=np.concatenate((f1[\"numerics_before\"][k][\"vals\"][:], f2[\"numerics_before\"][k][\"vals\"][:]), axis=0))\n",
    "                dset_k.create_dataset(f\"times\", data=np.concatenate((f1[\"numerics_before\"][k][\"times\"][:], f2[\"numerics_before\"][k][\"times\"][:]), axis=0))\n",
    "                dset_k = dset_after.create_group(k)\n",
    "                dset_k.create_dataset(f\"vals\", data=np.concatenate((f1[\"numerics_after\"][k][\"vals\"][:], f2[\"numerics_after\"][k][\"vals\"][:]), axis=0))\n",
    "                dset_k.create_dataset(f\"times\", data=np.concatenate((f1[\"numerics_after\"][k][\"times\"][:], f2[\"numerics_after\"][k][\"times\"][:]), axis=0))\n",
    "\n",
    "            dset = f.create_group(\"waveforms\")\n",
    "            for k in WAVEFORM_COLUMNS:\n",
    "                dset_k = dset.create_group(k)\n",
    "                dset_k.create_dataset(\"waveforms\", data=np.concatenate((f1[\"waveforms\"][k][\"waveforms\"][:], f2[\"waveforms\"][k][\"waveforms\"][:]), axis=0))\n",
    "                dset_k.create_dataset(\"qualities\", data=np.concatenate((f1[\"waveforms\"][k][\"qualities\"][:], f2[\"waveforms\"][k][\"qualities\"][:]), axis=0))\n"
   ]
  },
  {
   "cell_type": "code",
   "execution_count": null,
   "id": "849c6f77",
   "metadata": {},
   "outputs": [],
   "source": [
    "with h5py.File(\"/deep/group/ed-monitor-self-supervised/v4/downstream.15min.90min.60sec.h5\", \"r\") as f:\n",
    "    print(f.keys())\n",
    "    print(f['alignment_times'].shape)\n",
    "    print(f['numerics_after'].keys())\n",
    "    print(f['numerics_before'].keys())\n",
    "    print(f['numerics_after']['HR']['vals'].shape)\n",
    "    print(f['numerics_before']['HR']['vals'].shape)\n",
    "    print(f['waveforms'].keys())\n",
    "    print(f['waveforms']['II'].keys())\n",
    "    print(f['waveforms']['II']['waveforms'].shape)"
   ]
  },
  {
   "cell_type": "markdown",
   "id": "04efb24e",
   "metadata": {},
   "source": [
    "## 15 min / 120 min - (60 sec waveforms)"
   ]
  },
  {
   "cell_type": "markdown",
   "id": "639fa938",
   "metadata": {},
   "source": [
    "### Rejoin Output"
   ]
  },
  {
   "cell_type": "code",
   "execution_count": null,
   "id": "30d6e33e",
   "metadata": {},
   "outputs": [],
   "source": [
    "df_downstream_1 = pd.read_csv(\"/deep/group/ed-monitor-self-supervised/v4/downstream.15min.120min.60sec.1.csv\")\n",
    "print(df_downstream_1.shape)\n",
    "df_downstream_1.head(2)"
   ]
  },
  {
   "cell_type": "code",
   "execution_count": null,
   "id": "a9dc52f9",
   "metadata": {},
   "outputs": [],
   "source": [
    "df_downstream_2 = pd.read_csv(\"/deep/group/ed-monitor-self-supervised/v4/downstream.15min.120min.60sec.2.csv\")\n",
    "print(df_downstream_2.shape)\n",
    "df_downstream_2.head(2)"
   ]
  },
  {
   "cell_type": "code",
   "execution_count": null,
   "id": "acd581a4",
   "metadata": {},
   "outputs": [],
   "source": [
    "df_downstream = pd.concat([df_downstream_1, df_downstream_2])\n",
    "print(df_downstream.shape)"
   ]
  },
  {
   "cell_type": "code",
   "execution_count": null,
   "id": "94804d92",
   "metadata": {},
   "outputs": [],
   "source": [
    "df_downstream.to_csv(\"/deep/group/ed-monitor-self-supervised/v4/downstream.15min.120min.60sec.csv\", index=False)"
   ]
  },
  {
   "cell_type": "code",
   "execution_count": null,
   "id": "7e6ff302",
   "metadata": {},
   "outputs": [],
   "source": []
  },
  {
   "cell_type": "code",
   "execution_count": null,
   "id": "4c3dcddd",
   "metadata": {},
   "outputs": [],
   "source": [
    "TYPE_II = \"II\"\n",
    "TYPE_PLETH = \"Pleth\"\n",
    "WAVEFORM_COLUMNS = [TYPE_II, TYPE_PLETH]\n",
    "NUMERIC_COLUMNS = ['HR', 'RR', 'SpO2', 'btbRRInt_ms', 'NBPs', 'NBPd', 'Perf']\n",
    "\n",
    "with h5py.File(\"/deep/group/ed-monitor-self-supervised/v4/downstream.15min.120min.60sec.1.h5\", \"r\") as f1:\n",
    "    with h5py.File(\"/deep/group/ed-monitor-self-supervised/v4/downstream.15min.120min.60sec.2.h5\", \"r\") as f2:\n",
    "        with h5py.File(\"/deep/group/ed-monitor-self-supervised/v4/downstream.15min.120min.60sec.h5\", \"w\") as f:\n",
    "            f.create_dataset(\"alignment_times\", data=np.concatenate((f1['alignment_times'][:], f2['alignment_times'][:]), axis=0))\n",
    "            f.create_dataset(\"alignment_vals\", data=np.concatenate((f1['alignment_vals'][:], f2['alignment_vals'][:]), axis=0))\n",
    "            dset_before = f.create_group(\"numerics_before\")\n",
    "            dset_after = f.create_group(\"numerics_after\")\n",
    "            for k in NUMERIC_COLUMNS:\n",
    "                dset_k = dset_before.create_group(k)\n",
    "                dset_k.create_dataset(f\"vals\", data=np.concatenate((f1[\"numerics_before\"][k][\"vals\"][:], f2[\"numerics_before\"][k][\"vals\"][:]), axis=0))\n",
    "                dset_k.create_dataset(f\"times\", data=np.concatenate((f1[\"numerics_before\"][k][\"times\"][:], f2[\"numerics_before\"][k][\"times\"][:]), axis=0))\n",
    "                dset_k = dset_after.create_group(k)\n",
    "                dset_k.create_dataset(f\"vals\", data=np.concatenate((f1[\"numerics_after\"][k][\"vals\"][:], f2[\"numerics_after\"][k][\"vals\"][:]), axis=0))\n",
    "                dset_k.create_dataset(f\"times\", data=np.concatenate((f1[\"numerics_after\"][k][\"times\"][:], f2[\"numerics_after\"][k][\"times\"][:]), axis=0))\n",
    "\n",
    "            dset = f.create_group(\"waveforms\")\n",
    "            for k in WAVEFORM_COLUMNS:\n",
    "                dset_k = dset.create_group(k)\n",
    "                dset_k.create_dataset(\"waveforms\", data=np.concatenate((f1[\"waveforms\"][k][\"waveforms\"][:], f2[\"waveforms\"][k][\"waveforms\"][:]), axis=0))\n",
    "                dset_k.create_dataset(\"qualities\", data=np.concatenate((f1[\"waveforms\"][k][\"qualities\"][:], f2[\"waveforms\"][k][\"qualities\"][:]), axis=0))\n"
   ]
  },
  {
   "cell_type": "code",
   "execution_count": null,
   "id": "4bf0741e",
   "metadata": {},
   "outputs": [],
   "source": [
    "with h5py.File(\"/deep/group/ed-monitor-self-supervised/v4/downstream.15min.120min.60sec.h5\", \"r\") as f:\n",
    "    print(f.keys())\n",
    "    print(f['alignment_times'].shape)\n",
    "    print(f['numerics_after'].keys())\n",
    "    print(f['numerics_before'].keys())\n",
    "    print(f['numerics_after']['HR']['vals'].shape)\n",
    "    print(f['numerics_before']['HR']['vals'].shape)\n",
    "    print(f['waveforms'].keys())\n",
    "    print(f['waveforms']['II'].keys())\n",
    "    print(f['waveforms']['II']['waveforms'].shape)"
   ]
  },
  {
   "cell_type": "code",
   "execution_count": null,
   "id": "220fb480",
   "metadata": {},
   "outputs": [],
   "source": []
  },
  {
   "cell_type": "code",
   "execution_count": null,
   "id": "fec992f9",
   "metadata": {},
   "outputs": [],
   "source": []
  },
  {
   "cell_type": "markdown",
   "id": "e42b2af8",
   "metadata": {},
   "source": [
    "## Filter Dataset According to Normal Criteria\n",
    "\n",
    "\"you should be able to get the same cohorts from visits_ssl_2020_08_01_2021_12_31.csv (in the Box folder, ask Tom if you can’t see it) as follows. These variables are all in that file, which I will update soon for the timestamps Tom provided. The basic idea is to admit into each cohort only visits for which the VS in question is normal in triage and in the 1st 15 minutes of monitoring.\"\n",
    "\n"
   ]
  },
  {
   "cell_type": "code",
   "execution_count": null,
   "id": "40298d49",
   "metadata": {},
   "outputs": [],
   "source": [
    "df = pd.read_csv(\"/deep/group/ed-monitor-self-supervised/v4/visits_ssl_2022_05_23.csv\")\n",
    "print(df.shape)\n",
    "df.head(3)"
   ]
  },
  {
   "cell_type": "code",
   "execution_count": null,
   "id": "13b9a706",
   "metadata": {},
   "outputs": [],
   "source": [
    "\n",
    "def get_numerics_averaged_by_minute(vals, times, numerics_min=15):\n",
    "    output = np.zeros(numerics_min)\n",
    "    output[:] = np.NaN\n",
    "\n",
    "    start = min(times)\n",
    "    end = max(times)\n",
    "\n",
    "    temp_min = 0\n",
    "    temp_list = []\n",
    "    valid_vals = 0\n",
    "    for idx in range(len(vals)):\n",
    "        if times[idx] == 0:\n",
    "            continue\n",
    "        if temp_min >= numerics_min:\n",
    "            break\n",
    "        if (start + temp_min * 60) <= times[idx] < (start + (temp_min + 1) * 60):\n",
    "            temp_list.append(vals[idx])\n",
    "        else:\n",
    "            output[temp_min] = np.mean(temp_list) if len(temp_list) > 0 else float(\"nan\")\n",
    "            if len(temp_list) > 0:\n",
    "                valid_vals += 1\n",
    "            temp_list = [vals[idx]]\n",
    "            temp_min += 1\n",
    "\n",
    "    if len(temp_list) > 0 and temp_min < numerics_min:\n",
    "        output[temp_min] = np.mean(temp_list)\n",
    "\n",
    "    return output\n"
   ]
  },
  {
   "cell_type": "markdown",
   "id": "f11b378b",
   "metadata": {},
   "source": [
    "### Hypotension\n",
    "\n",
    "Valid CSNs should be any whose triage MAP values >= 65 and any initial monitoring MAP values up to the alignment time >= 65\n",
    "\n",
    "- Hypotension\n",
    "    - Cohort filter: Triage_MAP>=65 & First_mon_MAP>=65\n",
    "    - Case: Mon_to_first_low_MAP in 15:75/105/135 (depending on window chosen)"
   ]
  },
  {
   "cell_type": "code",
   "execution_count": null,
   "id": "bbd5528c",
   "metadata": {},
   "outputs": [],
   "source": [
    "# We only want to include those who have non-decompensated triage MAP values\n",
    "df_hypo = df[(df[\"Triage_MAP\"] >= 65)]\n",
    "df_hypo.shape"
   ]
  },
  {
   "cell_type": "code",
   "execution_count": null,
   "id": "659d1261",
   "metadata": {},
   "outputs": [],
   "source": [
    "triage_csns = set(df_hypo[\"CSN\"].tolist())\n",
    "len(triage_csns)"
   ]
  },
  {
   "cell_type": "code",
   "execution_count": null,
   "id": "ca8fcff7",
   "metadata": {},
   "outputs": [],
   "source": []
  },
  {
   "cell_type": "code",
   "execution_count": null,
   "id": "d6dbf6ff",
   "metadata": {},
   "outputs": [],
   "source": [
    "df_summary = pd.read_csv(\"/deep/group/ed-monitor-self-supervised/v4/downstream.15min.60min.60sec.csv\")\n",
    "\n",
    "def f(row):\n",
    "    ts = datetime.fromtimestamp(row[\"alignment_time\"])\n",
    "    tz = pytz.timezone(\"America/Vancouver\")\n",
    "    aware_dt = tz.localize(ts)\n",
    "    return aware_dt.isoformat()\n",
    "\n",
    "df_summary['alignment_dt'] = df_summary.apply(f, axis=1)\n",
    "df_summary = df_summary[df_summary[\"patient_id\"].isin(triage_csns)]\n",
    "print(df_summary.shape)\n",
    "df_summary.head(5)"
   ]
  },
  {
   "cell_type": "code",
   "execution_count": null,
   "id": "135bc687",
   "metadata": {},
   "outputs": [],
   "source": [
    "# Among the remaining patients, find out if decompensation occurred before the alignment time\n",
    "df_hypo = df[~df[\"Time_of_first_low_MAP\"].isna()]\n",
    "print(df_hypo.shape)"
   ]
  },
  {
   "cell_type": "code",
   "execution_count": null,
   "id": "bfad0e49",
   "metadata": {},
   "outputs": [],
   "source": [
    "df_hypo = df_hypo[[\"CSN\", \"Time_of_first_low_MAP\"]]\n",
    "df_hypo.head(1)"
   ]
  },
  {
   "cell_type": "code",
   "execution_count": null,
   "id": "265a81e8",
   "metadata": {},
   "outputs": [],
   "source": [
    "def f(row):\n",
    "    ts = datetime.strptime(row[\"Time_of_first_low_MAP\"], \"%Y-%m-%dT%H:%M:%SZ\")\n",
    "    tz = pytz.timezone(\"America/Vancouver\")\n",
    "    aware_dt = tz.localize(ts)\n",
    "    return aware_dt.isoformat()\n",
    "\n",
    "df_hypo[\"Time_of_first_low_MAP\"] = df_hypo.apply(f, axis=1)\n",
    "df_hypo.head(1)"
   ]
  },
  {
   "cell_type": "code",
   "execution_count": null,
   "id": "3f067c1b",
   "metadata": {},
   "outputs": [],
   "source": [
    "csn_to_first_decomp_val = {}\n",
    "for i, row in df_hypo.iterrows():\n",
    "    csn_to_first_decomp_val[row[\"CSN\"]] = row[\"Time_of_first_low_MAP\"]"
   ]
  },
  {
   "cell_type": "code",
   "execution_count": null,
   "id": "3d1c1e80",
   "metadata": {},
   "outputs": [],
   "source": [
    "\n",
    "def f(row):\n",
    "    csn = row[\"patient_id\"]\n",
    "    if csn in csn_to_first_decomp_val:\n",
    "        if row[\"alignment_dt\"] < csn_to_first_decomp_val[csn]:\n",
    "            # Decompensation occurred after the alignment - this is ok!\n",
    "            return False\n",
    "        else:\n",
    "            # Decompensated before alignment\n",
    "            return True\n",
    "    else:\n",
    "        # No decompensation occurred at all\n",
    "        return False\n",
    "\n",
    "df_summary['decompensated_before_alignment'] = df_summary.apply(f, axis=1)\n",
    "df_summary = df_summary[df_summary['decompensated_before_alignment'] == False]\n",
    "print(df_summary.shape)\n",
    "df_summary.head(5)\n"
   ]
  },
  {
   "cell_type": "code",
   "execution_count": null,
   "id": "9b33b78d",
   "metadata": {},
   "outputs": [],
   "source": [
    "df_summary.to_csv(\"/deep/group/ed-monitor-self-supervised/v4/downstream.15min.60min.60sec.initial_map_normal.csv\", index=False)"
   ]
  },
  {
   "cell_type": "code",
   "execution_count": null,
   "id": "91c5c45c",
   "metadata": {},
   "outputs": [],
   "source": []
  },
  {
   "cell_type": "markdown",
   "id": "8e595cbf",
   "metadata": {},
   "source": [
    "### Hypoxia\n",
    "\n",
    "Valid CSNs should be any whose triage SpO2 values >= 90 and any initial monitoring SpO2 values up to the alignment time >= 90\n",
    "\n",
    "- Hypoxia\n",
    "    - Cohort filter: Triage_SpO2>=90 & First_mon_SpO2>=90\n",
    "    - Case: Mon_to_first_low_SpO2 in 15:75/105/135"
   ]
  },
  {
   "cell_type": "code",
   "execution_count": null,
   "id": "a5255a7e",
   "metadata": {},
   "outputs": [],
   "source": [
    "# We only want to include those who have non-decompensated triage MAP values\n",
    "df_hypo = df[(df[\"Triage_SpO2\"] >= 90)]\n",
    "df_hypo.shape"
   ]
  },
  {
   "cell_type": "code",
   "execution_count": null,
   "id": "d4c66445",
   "metadata": {},
   "outputs": [],
   "source": [
    "triage_csns = set(df_hypo[\"CSN\"].tolist())\n",
    "len(triage_csns)"
   ]
  },
  {
   "cell_type": "code",
   "execution_count": null,
   "id": "fd081abd",
   "metadata": {},
   "outputs": [],
   "source": []
  },
  {
   "cell_type": "code",
   "execution_count": null,
   "id": "fd5a3016",
   "metadata": {},
   "outputs": [],
   "source": [
    "df_summary = pd.read_csv(\"/deep/group/ed-monitor-self-supervised/v4/downstream.15min.60min.60sec.csv\")\n",
    "\n",
    "def f(row):\n",
    "    ts = datetime.fromtimestamp(row[\"alignment_time\"])\n",
    "    tz = pytz.timezone(\"America/Vancouver\")\n",
    "    aware_dt = tz.localize(ts)\n",
    "    return aware_dt.isoformat()\n",
    "\n",
    "df_summary['alignment_dt'] = df_summary.apply(f, axis=1)\n",
    "df_summary = df_summary[df_summary[\"patient_id\"].isin(triage_csns)]\n",
    "print(df_summary.shape)\n",
    "df_summary.head(3)"
   ]
  },
  {
   "cell_type": "code",
   "execution_count": null,
   "id": "f444d613",
   "metadata": {},
   "outputs": [],
   "source": [
    "# Among the remaining patients, find out if decompensation occurred before the alignment time\n",
    "df_hypo = df[~df[\"Time_of_first_low_SpO2\"].isna()]\n",
    "print(df_hypo.shape)"
   ]
  },
  {
   "cell_type": "code",
   "execution_count": null,
   "id": "27ac87dd",
   "metadata": {},
   "outputs": [],
   "source": [
    "def f(row):\n",
    "    ts = datetime.strptime(row[\"Time_of_first_low_SpO2\"], \"%Y-%m-%dT%H:%M:%SZ\")\n",
    "    tz = pytz.timezone(\"America/Vancouver\")\n",
    "    aware_dt = tz.localize(ts)\n",
    "    return aware_dt.isoformat()\n",
    "\n",
    "df_hypo[\"Time_of_first_low_SpO2\"] = df_hypo.apply(f, axis=1)\n",
    "df_hypo.head(1)"
   ]
  },
  {
   "cell_type": "code",
   "execution_count": null,
   "id": "e3ea6f8c",
   "metadata": {},
   "outputs": [],
   "source": [
    "csn_to_first_decomp_val = {}\n",
    "for i, row in df_hypo.iterrows():\n",
    "    csn_to_first_decomp_val[row[\"CSN\"]] = row[\"Time_of_first_low_SpO2\"]"
   ]
  },
  {
   "cell_type": "code",
   "execution_count": null,
   "id": "1538b898",
   "metadata": {},
   "outputs": [],
   "source": [
    "\n",
    "def f(row):\n",
    "    csn = row[\"patient_id\"]\n",
    "    if csn in csn_to_first_decomp_val:\n",
    "        if row[\"alignment_dt\"] < csn_to_first_decomp_val[csn]:\n",
    "            # Decompensation occurred after the alignment - this is ok!\n",
    "            return False\n",
    "        else:\n",
    "            # Decompensated before alignment\n",
    "            return True\n",
    "    else:\n",
    "        # No decompensation occurred at all\n",
    "        return False\n",
    "\n",
    "df_summary['decompensated_before_alignment'] = df_summary.apply(f, axis=1)\n",
    "df_summary = df_summary[df_summary['decompensated_before_alignment'] == False]\n",
    "print(df_summary.shape)\n",
    "df_summary.head(5)\n"
   ]
  },
  {
   "cell_type": "code",
   "execution_count": null,
   "id": "413cee3e",
   "metadata": {},
   "outputs": [],
   "source": [
    "df_summary.to_csv(\"/deep/group/ed-monitor-self-supervised/v4/downstream.15min.60min.60sec.initial_spo2_normal.csv\", index=False)"
   ]
  },
  {
   "cell_type": "code",
   "execution_count": null,
   "id": "7e2de285",
   "metadata": {},
   "outputs": [],
   "source": []
  },
  {
   "cell_type": "markdown",
   "id": "03a28305",
   "metadata": {},
   "source": [
    "### Tachycardia\n",
    "\n",
    "Valid CSNs should be any whose triage HR values <= 110 and any initial monitoring HR values up to the alignment time <= 110\n",
    "\n",
    "- Tachycardia\n",
    "    - Cohort filter: Triage_HR<=110 & First_mon_HR<=110\n",
    "    - Case: Mon_to_first_high_HR in 15:75/105/135"
   ]
  },
  {
   "cell_type": "code",
   "execution_count": null,
   "id": "3db76121",
   "metadata": {},
   "outputs": [],
   "source": [
    "# We only want to include those who have non-decompensated triage MAP values\n",
    "df_hypo = df[(df[\"Triage_HR\"] <= 110)]\n",
    "df_hypo.shape"
   ]
  },
  {
   "cell_type": "code",
   "execution_count": null,
   "id": "36dc4c1c",
   "metadata": {},
   "outputs": [],
   "source": [
    "triage_csns = set(df_hypo[\"CSN\"].tolist())\n",
    "len(triage_csns)"
   ]
  },
  {
   "cell_type": "code",
   "execution_count": null,
   "id": "27e1f6d8",
   "metadata": {},
   "outputs": [],
   "source": []
  },
  {
   "cell_type": "code",
   "execution_count": null,
   "id": "ec801adc",
   "metadata": {},
   "outputs": [],
   "source": [
    "df_summary = pd.read_csv(\"/deep/group/ed-monitor-self-supervised/v4/downstream.15min.60min.60sec.csv\")\n",
    "\n",
    "def f(row):\n",
    "    ts = datetime.fromtimestamp(row[\"alignment_time\"])\n",
    "    tz = pytz.timezone(\"America/Vancouver\")\n",
    "    aware_dt = tz.localize(ts)\n",
    "    return aware_dt.isoformat()\n",
    "\n",
    "df_summary['alignment_dt'] = df_summary.apply(f, axis=1)\n",
    "df_summary = df_summary[df_summary[\"patient_id\"].isin(triage_csns)]\n",
    "print(df_summary.shape)\n",
    "df_summary.head(3)"
   ]
  },
  {
   "cell_type": "code",
   "execution_count": null,
   "id": "949418f5",
   "metadata": {},
   "outputs": [],
   "source": [
    "# Among the remaining patients, find out if decompensation occurred before the alignment time\n",
    "df_hypo = df[~df[\"Time_of_first_high_HR\"].isna()]\n",
    "print(df_hypo.shape)"
   ]
  },
  {
   "cell_type": "code",
   "execution_count": null,
   "id": "7d4f7c45",
   "metadata": {},
   "outputs": [],
   "source": [
    "df_hypo = df_hypo[[\"CSN\", \"Time_of_first_high_HR\"]]\n",
    "df_hypo.head(1)"
   ]
  },
  {
   "cell_type": "code",
   "execution_count": null,
   "id": "0228ebee",
   "metadata": {},
   "outputs": [],
   "source": [
    "def f(row):\n",
    "    ts = datetime.strptime(row[\"Time_of_first_high_HR\"], \"%Y-%m-%dT%H:%M:%SZ\")\n",
    "    tz = pytz.timezone(\"America/Vancouver\")\n",
    "    aware_dt = tz.localize(ts)\n",
    "    return aware_dt.isoformat()\n",
    "\n",
    "df_hypo[\"Time_of_first_high_HR\"] = df_hypo.apply(f, axis=1)\n",
    "df_hypo.head(1)"
   ]
  },
  {
   "cell_type": "code",
   "execution_count": null,
   "id": "9bc26d95",
   "metadata": {},
   "outputs": [],
   "source": [
    "csn_to_first_decomp_val = {}\n",
    "for i, row in df_hypo.iterrows():\n",
    "    csn_to_first_decomp_val[row[\"CSN\"]] = row[\"Time_of_first_high_HR\"]"
   ]
  },
  {
   "cell_type": "code",
   "execution_count": null,
   "id": "7222382e",
   "metadata": {},
   "outputs": [],
   "source": [
    "\n",
    "def f(row):\n",
    "    csn = row[\"patient_id\"]\n",
    "    if csn in csn_to_first_decomp_val:\n",
    "        if row[\"alignment_dt\"] < csn_to_first_decomp_val[csn]:\n",
    "            # Decompensation occurred after the alignment - this is ok!\n",
    "            return False\n",
    "        else:\n",
    "            # Decompensated before alignment\n",
    "            return True\n",
    "    else:\n",
    "        # No decompensation occurred at all\n",
    "        return False\n",
    "\n",
    "df_summary['decompensated_before_alignment'] = df_summary.apply(f, axis=1)\n",
    "df_summary = df_summary[df_summary['decompensated_before_alignment'] == False]\n",
    "print(df_summary.shape)\n",
    "df_summary.head(5)\n"
   ]
  },
  {
   "cell_type": "code",
   "execution_count": null,
   "id": "8796a5ca",
   "metadata": {},
   "outputs": [],
   "source": [
    "df_summary.to_csv(\"/deep/group/ed-monitor-self-supervised/v4/downstream.15min.60min.60sec.initial_hr_normal.csv\", index=False)"
   ]
  },
  {
   "cell_type": "code",
   "execution_count": null,
   "id": "3488285c",
   "metadata": {},
   "outputs": [],
   "source": []
  },
  {
   "cell_type": "code",
   "execution_count": null,
   "id": "5b8fc920",
   "metadata": {},
   "outputs": [],
   "source": []
  }
 ],
 "metadata": {
  "kernelspec": {
   "display_name": "Python 3",
   "language": "python",
   "name": "python3"
  },
  "language_info": {
   "codemirror_mode": {
    "name": "ipython",
    "version": 3
   },
   "file_extension": ".py",
   "mimetype": "text/x-python",
   "name": "python",
   "nbconvert_exporter": "python",
   "pygments_lexer": "ipython3",
   "version": "3.9.7"
  }
 },
 "nbformat": 4,
 "nbformat_minor": 5
}
